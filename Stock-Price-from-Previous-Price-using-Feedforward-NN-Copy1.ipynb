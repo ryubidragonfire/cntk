{
 "cells": [
  {
   "cell_type": "markdown",
   "metadata": {},
   "source": [
    "# Stock Price Prediction as a Classification Problem\n",
    "Objective: Predict today's from past n number of days.\n",
    "\n",
    "Tool: CNTK\n",
    "\n",
    "NN: Feedforward + relu + 2 hidden layers + 50 nodes in each layer\n",
    "\n",
    "This Copy: try different number of layers"
   ]
  },
  {
   "cell_type": "code",
   "execution_count": 70,
   "metadata": {
    "collapsed": true
   },
   "outputs": [],
   "source": [
    "import numpy as np\n",
    "import cntk\n",
    "import cntk.ops as C\n",
    "\n",
    "from cntk.blocks import default_options, Input   # Building blocks\n",
    "from cntk.initializer import glorot_uniform\n",
    "from cntk.layers import Dense                    # Layers\n",
    "from cntk.learner import sgd, learning_rate_schedule, UnitType\n",
    "from cntk.utils import get_train_eval_criterion, get_train_loss, ProgressPrinter, get_train_loss\n",
    "\n",
    "import datetime\n",
    "import pandas as pd\n",
    "pd.options.mode.chained_assignment = None  # default='warn'"
   ]
  },
  {
   "cell_type": "markdown",
   "metadata": {},
   "source": [
    "### Utility to download stock data from open source"
   ]
  },
  {
   "cell_type": "code",
   "execution_count": 71,
   "metadata": {
    "collapsed": true
   },
   "outputs": [],
   "source": [
    "# A method which obtains stock data from Yahoo finance\n",
    "# Requires that you have an internet connection to retreive stock data from Yahoo finance\n",
    "try:\n",
    "    from pandas_datareader import data\n",
    "except ImportError:\n",
    "    !pip install pandas_datareader\n",
    "    from pandas_datareader import data\n",
    "\n",
    "def get_stock_data(contract, s_year, s_month, s_day, e_year, e_month, e_day):\n",
    "    \"\"\"\n",
    "    Args:\n",
    "        contract (str): the name of the stock/etf\n",
    "        s_year (int): start year for data\n",
    "        s_month (int): start month\n",
    "        s_day (int): start day\n",
    "        e_year (int): end year\n",
    "        e_month (int): end month\n",
    "        e_day (int): end day\n",
    "    Returns:\n",
    "        Pandas Dataframe: Daily OHLCV bars\n",
    "    \"\"\"\n",
    "    start = datetime.datetime(s_year, s_month, s_day)\n",
    "    end = datetime.datetime(e_year, e_month, e_day)\n",
    "    bars = data.get_data_yahoo(contract, start, end)\n",
    "    return bars"
   ]
  },
  {
   "cell_type": "code",
   "execution_count": 72,
   "metadata": {
    "collapsed": false
   },
   "outputs": [
    {
     "data": {
      "text/html": [
       "<div>\n",
       "<table border=\"1\" class=\"dataframe\">\n",
       "  <thead>\n",
       "    <tr style=\"text-align: right;\">\n",
       "      <th></th>\n",
       "      <th>Open</th>\n",
       "      <th>High</th>\n",
       "      <th>Low</th>\n",
       "      <th>Close</th>\n",
       "      <th>Volume</th>\n",
       "      <th>Adj Close</th>\n",
       "    </tr>\n",
       "    <tr>\n",
       "      <th>Date</th>\n",
       "      <th></th>\n",
       "      <th></th>\n",
       "      <th></th>\n",
       "      <th></th>\n",
       "      <th></th>\n",
       "      <th></th>\n",
       "    </tr>\n",
       "  </thead>\n",
       "  <tbody>\n",
       "    <tr>\n",
       "      <th>2000-01-03</th>\n",
       "      <td>117.3750</td>\n",
       "      <td>118.625</td>\n",
       "      <td>112.0000</td>\n",
       "      <td>116.5625</td>\n",
       "      <td>53228400</td>\n",
       "      <td>39.573098</td>\n",
       "    </tr>\n",
       "    <tr>\n",
       "      <th>2000-01-04</th>\n",
       "      <td>113.5625</td>\n",
       "      <td>117.125</td>\n",
       "      <td>112.2500</td>\n",
       "      <td>112.6250</td>\n",
       "      <td>54119000</td>\n",
       "      <td>38.236313</td>\n",
       "    </tr>\n",
       "    <tr>\n",
       "      <th>2000-01-05</th>\n",
       "      <td>111.1250</td>\n",
       "      <td>116.375</td>\n",
       "      <td>109.3750</td>\n",
       "      <td>113.8125</td>\n",
       "      <td>64059600</td>\n",
       "      <td>38.639470</td>\n",
       "    </tr>\n",
       "    <tr>\n",
       "      <th>2000-01-06</th>\n",
       "      <td>112.1875</td>\n",
       "      <td>113.875</td>\n",
       "      <td>108.3750</td>\n",
       "      <td>110.0000</td>\n",
       "      <td>54976600</td>\n",
       "      <td>37.345122</td>\n",
       "    </tr>\n",
       "    <tr>\n",
       "      <th>2000-01-07</th>\n",
       "      <td>108.6250</td>\n",
       "      <td>112.250</td>\n",
       "      <td>107.3125</td>\n",
       "      <td>111.4375</td>\n",
       "      <td>62013600</td>\n",
       "      <td>37.833155</td>\n",
       "    </tr>\n",
       "  </tbody>\n",
       "</table>\n",
       "</div>"
      ],
      "text/plain": [
       "                Open     High       Low     Close    Volume  Adj Close\n",
       "Date                                                                  \n",
       "2000-01-03  117.3750  118.625  112.0000  116.5625  53228400  39.573098\n",
       "2000-01-04  113.5625  117.125  112.2500  112.6250  54119000  38.236313\n",
       "2000-01-05  111.1250  116.375  109.3750  113.8125  64059600  38.639470\n",
       "2000-01-06  112.1875  113.875  108.3750  110.0000  54976600  37.345122\n",
       "2000-01-07  108.6250  112.250  107.3125  111.4375  62013600  37.833155"
      ]
     },
     "execution_count": 72,
     "metadata": {},
     "output_type": "execute_result"
    }
   ],
   "source": [
    "data = get_stock_data(\"MSFT\", 2000,1,2,2016,12,1)\n",
    "data.head()"
   ]
  },
  {
   "cell_type": "code",
   "execution_count": 73,
   "metadata": {
    "collapsed": false
   },
   "outputs": [
    {
     "data": {
      "text/plain": [
       "Date\n",
       "2000-01-03    117.3750\n",
       "2000-01-04    113.5625\n",
       "2000-01-05    111.1250\n",
       "2000-01-06    112.1875\n",
       "2000-01-07    108.6250\n",
       "2000-01-10    113.4375\n",
       "Name: Open, dtype: float64"
      ]
     },
     "execution_count": 73,
     "metadata": {},
     "output_type": "execute_result"
    }
   ],
   "source": [
    "#type(data)\n",
    "#data.shape\n",
    "#data['Open']\n",
    "#data.axes\n",
    "data['2000-01-03':'2000-01-10']['Open']"
   ]
  },
  {
   "cell_type": "markdown",
   "metadata": {},
   "source": [
    "### Plot downloaded data"
   ]
  },
  {
   "cell_type": "code",
   "execution_count": 74,
   "metadata": {
    "collapsed": false
   },
   "outputs": [
    {
     "data": {
      "image/png": "[encoded data removed]",
      "text/plain": [
       "<matplotlib.figure.Figure at 0xb420eb8>"
      ]
     },
     "metadata": {},
     "output_type": "display_data"
    }
   ],
   "source": [
    "import matplotlib.pyplot as plt\n",
    "plt.figure(1)\n",
    "plt.plot(data[:]['Open'], 'b--'); # plt.plot(data['2000-01-03':'2001-01-03']['Open'], 'b--')\n",
    "plt.xlabel('Date')\n",
    "plt.ylabel('Open')\n",
    "plt.show()"
   ]
  },
  {
   "cell_type": "markdown",
   "metadata": {},
   "source": [
    "### Create features from raw data"
   ]
  },
  {
   "cell_type": "code",
   "execution_count": 75,
   "metadata": {
    "collapsed": false
   },
   "outputs": [],
   "source": [
    "#feature name List\n",
    "predictor_names = []\n",
    "\n",
    "# price difference as percentage, fill NA with 0\n",
    "data['price_diff_percent'] = np.abs((data['Close'] - data['Close'].shift(1))/data['Close']).fillna(0) # fill NA with 0\n",
    "predictor_names.append('price_diff_percent')\n",
    "\n",
    "# volume difference as percentage, fill NA with 0\n",
    "data['vol_diff_percent'] = np.abs((data['Volume'] - data['Volume'].shift(1))/data['Volume']).fillna(0) # fill NA with 0\n",
    "predictor_names.append('vol_diff_percent')\n",
    "\n",
    "# give label such that up is 1, same or down is 0 \n",
    "# TODO: up is 2, same is 1 or down is 0\n",
    "\n",
    "# Remember to clear data[]\n",
    "#num_days_back = 5 # 50.52%\n",
    "#num_days_back = 1 # 50.52%\n",
    "num_days_back = 10 # 49.48%\n",
    "#num_days_back = 30 # 50.52%\n",
    "\n",
    "for i in range(1, num_days_back+1):\n",
    "    data['lookback_' + str(i)] = np.where(data['Close'] > data['Close'].shift(i), 1, 0)\n",
    "    predictor_names.append('lookback_' + str(i))    "
   ]
  },
  {
   "cell_type": "code",
   "execution_count": 76,
   "metadata": {
    "collapsed": false
   },
   "outputs": [
    {
     "data": {
      "text/html": [
       "<div>\n",
       "<table border=\"1\" class=\"dataframe\">\n",
       "  <thead>\n",
       "    <tr style=\"text-align: right;\">\n",
       "      <th></th>\n",
       "      <th>Open</th>\n",
       "      <th>High</th>\n",
       "      <th>Low</th>\n",
       "      <th>Close</th>\n",
       "      <th>Volume</th>\n",
       "      <th>Adj Close</th>\n",
       "      <th>price_diff_percent</th>\n",
       "      <th>vol_diff_percent</th>\n",
       "      <th>lookback_1</th>\n",
       "      <th>lookback_2</th>\n",
       "      <th>lookback_3</th>\n",
       "      <th>lookback_4</th>\n",
       "      <th>lookback_5</th>\n",
       "      <th>lookback_6</th>\n",
       "      <th>lookback_7</th>\n",
       "      <th>lookback_8</th>\n",
       "      <th>lookback_9</th>\n",
       "      <th>lookback_10</th>\n",
       "    </tr>\n",
       "    <tr>\n",
       "      <th>Date</th>\n",
       "      <th></th>\n",
       "      <th></th>\n",
       "      <th></th>\n",
       "      <th></th>\n",
       "      <th></th>\n",
       "      <th></th>\n",
       "      <th></th>\n",
       "      <th></th>\n",
       "      <th></th>\n",
       "      <th></th>\n",
       "      <th></th>\n",
       "      <th></th>\n",
       "      <th></th>\n",
       "      <th></th>\n",
       "      <th></th>\n",
       "      <th></th>\n",
       "      <th></th>\n",
       "      <th></th>\n",
       "    </tr>\n",
       "  </thead>\n",
       "  <tbody>\n",
       "    <tr>\n",
       "      <th>2000-01-03</th>\n",
       "      <td>117.3750</td>\n",
       "      <td>118.625</td>\n",
       "      <td>112.0000</td>\n",
       "      <td>116.5625</td>\n",
       "      <td>53228400</td>\n",
       "      <td>39.573098</td>\n",
       "      <td>0.000000</td>\n",
       "      <td>0.000000</td>\n",
       "      <td>0</td>\n",
       "      <td>0</td>\n",
       "      <td>0</td>\n",
       "      <td>0</td>\n",
       "      <td>0</td>\n",
       "      <td>0</td>\n",
       "      <td>0</td>\n",
       "      <td>0</td>\n",
       "      <td>0</td>\n",
       "      <td>0</td>\n",
       "    </tr>\n",
       "    <tr>\n",
       "      <th>2000-01-04</th>\n",
       "      <td>113.5625</td>\n",
       "      <td>117.125</td>\n",
       "      <td>112.2500</td>\n",
       "      <td>112.6250</td>\n",
       "      <td>54119000</td>\n",
       "      <td>38.236313</td>\n",
       "      <td>0.034961</td>\n",
       "      <td>0.016456</td>\n",
       "      <td>0</td>\n",
       "      <td>0</td>\n",
       "      <td>0</td>\n",
       "      <td>0</td>\n",
       "      <td>0</td>\n",
       "      <td>0</td>\n",
       "      <td>0</td>\n",
       "      <td>0</td>\n",
       "      <td>0</td>\n",
       "      <td>0</td>\n",
       "    </tr>\n",
       "    <tr>\n",
       "      <th>2000-01-05</th>\n",
       "      <td>111.1250</td>\n",
       "      <td>116.375</td>\n",
       "      <td>109.3750</td>\n",
       "      <td>113.8125</td>\n",
       "      <td>64059600</td>\n",
       "      <td>38.639470</td>\n",
       "      <td>0.010434</td>\n",
       "      <td>0.155177</td>\n",
       "      <td>1</td>\n",
       "      <td>0</td>\n",
       "      <td>0</td>\n",
       "      <td>0</td>\n",
       "      <td>0</td>\n",
       "      <td>0</td>\n",
       "      <td>0</td>\n",
       "      <td>0</td>\n",
       "      <td>0</td>\n",
       "      <td>0</td>\n",
       "    </tr>\n",
       "    <tr>\n",
       "      <th>2000-01-06</th>\n",
       "      <td>112.1875</td>\n",
       "      <td>113.875</td>\n",
       "      <td>108.3750</td>\n",
       "      <td>110.0000</td>\n",
       "      <td>54976600</td>\n",
       "      <td>37.345122</td>\n",
       "      <td>0.034659</td>\n",
       "      <td>0.165216</td>\n",
       "      <td>0</td>\n",
       "      <td>0</td>\n",
       "      <td>0</td>\n",
       "      <td>0</td>\n",
       "      <td>0</td>\n",
       "      <td>0</td>\n",
       "      <td>0</td>\n",
       "      <td>0</td>\n",
       "      <td>0</td>\n",
       "      <td>0</td>\n",
       "    </tr>\n",
       "    <tr>\n",
       "      <th>2000-01-07</th>\n",
       "      <td>108.6250</td>\n",
       "      <td>112.250</td>\n",
       "      <td>107.3125</td>\n",
       "      <td>111.4375</td>\n",
       "      <td>62013600</td>\n",
       "      <td>37.833155</td>\n",
       "      <td>0.012900</td>\n",
       "      <td>0.113475</td>\n",
       "      <td>1</td>\n",
       "      <td>0</td>\n",
       "      <td>0</td>\n",
       "      <td>0</td>\n",
       "      <td>0</td>\n",
       "      <td>0</td>\n",
       "      <td>0</td>\n",
       "      <td>0</td>\n",
       "      <td>0</td>\n",
       "      <td>0</td>\n",
       "    </tr>\n",
       "  </tbody>\n",
       "</table>\n",
       "</div>"
      ],
      "text/plain": [
       "                Open     High       Low     Close    Volume  Adj Close  \\\n",
       "Date                                                                     \n",
       "2000-01-03  117.3750  118.625  112.0000  116.5625  53228400  39.573098   \n",
       "2000-01-04  113.5625  117.125  112.2500  112.6250  54119000  38.236313   \n",
       "2000-01-05  111.1250  116.375  109.3750  113.8125  64059600  38.639470   \n",
       "2000-01-06  112.1875  113.875  108.3750  110.0000  54976600  37.345122   \n",
       "2000-01-07  108.6250  112.250  107.3125  111.4375  62013600  37.833155   \n",
       "\n",
       "            price_diff_percent  vol_diff_percent  lookback_1  lookback_2  \\\n",
       "Date                                                                       \n",
       "2000-01-03            0.000000          0.000000           0           0   \n",
       "2000-01-04            0.034961          0.016456           0           0   \n",
       "2000-01-05            0.010434          0.155177           1           0   \n",
       "2000-01-06            0.034659          0.165216           0           0   \n",
       "2000-01-07            0.012900          0.113475           1           0   \n",
       "\n",
       "            lookback_3  lookback_4  lookback_5  lookback_6  lookback_7  \\\n",
       "Date                                                                     \n",
       "2000-01-03           0           0           0           0           0   \n",
       "2000-01-04           0           0           0           0           0   \n",
       "2000-01-05           0           0           0           0           0   \n",
       "2000-01-06           0           0           0           0           0   \n",
       "2000-01-07           0           0           0           0           0   \n",
       "\n",
       "            lookback_8  lookback_9  lookback_10  \n",
       "Date                                             \n",
       "2000-01-03           0           0            0  \n",
       "2000-01-04           0           0            0  \n",
       "2000-01-05           0           0            0  \n",
       "2000-01-06           0           0            0  \n",
       "2000-01-07           0           0            0  "
      ]
     },
     "execution_count": 76,
     "metadata": {},
     "output_type": "execute_result"
    }
   ],
   "source": [
    "data.head()"
   ]
  },
  {
   "cell_type": "code",
   "execution_count": 77,
   "metadata": {
    "collapsed": false
   },
   "outputs": [],
   "source": [
    "# save data\n",
    "filename = './data/feature.tsv'\n",
    "data.to_csv(filename, sep='\\t')"
   ]
  },
  {
   "cell_type": "markdown",
   "metadata": {},
   "source": [
    "### Prepare label"
   ]
  },
  {
   "cell_type": "code",
   "execution_count": 78,
   "metadata": {
    "collapsed": false
   },
   "outputs": [
    {
     "name": "stdout",
     "output_type": "stream",
     "text": [
      "Date\n",
      "2000-01-03    0\n",
      "2000-01-04    1\n",
      "2000-01-05    0\n",
      "2000-01-06    1\n",
      "2000-01-07    1\n",
      "Name: next_day, dtype: int32\n",
      "Date\n",
      "2000-01-03    1\n",
      "2000-01-04    0\n",
      "2000-01-05    1\n",
      "2000-01-06    0\n",
      "2000-01-07    0\n",
      "Name: next_day_opposite, dtype: int32\n"
     ]
    }
   ],
   "source": [
    "# prepare the prediction, i.e. label\n",
    "data['next_day'] = np.where(data['Close'].shift(-1)>data['Close'], 1, 0) # put in today * see 'Some nitty gritty'\n",
    "data['next_day_opposite'] = np.where(data['next_day'] == 1, 0, 1) # why reverse it? Will turn into 1-hot. see *'Preparing training and testing data'\n",
    "print(data['next_day'].head())\n",
    "print(data['next_day_opposite'].head())"
   ]
  },
  {
   "cell_type": "markdown",
   "metadata": {},
   "source": [
    "### Prepare training data and test data"
   ]
  },
  {
   "cell_type": "code",
   "execution_count": 79,
   "metadata": {
    "collapsed": false,
    "scrolled": true
   },
   "outputs": [
    {
     "name": "stdout",
     "output_type": "stream",
     "text": [
      "                 Open       High        Low      Close    Volume  Adj Close  \\\n",
      "Date                                                                          \n",
      "2015-01-05  46.369999  46.730000  46.250000  46.330002  39673900  43.897593   \n",
      "2015-01-06  46.380001  46.750000  45.540001  45.650002  36447900  43.253294   \n",
      "2015-01-07  45.980000  46.459999  45.490002  46.230000  29114100  43.802841   \n",
      "2015-01-08  46.750000  47.750000  46.720001  47.590000  29645200  45.091440   \n",
      "2015-01-09  47.610001  47.820000  46.900002  47.189999  23944200  44.712439   \n",
      "\n",
      "            price_diff_percent  vol_diff_percent  lookback_1  lookback_2  \\\n",
      "Date                                                                       \n",
      "2015-01-05            0.009281          0.296417           0           0   \n",
      "2015-01-06            0.014896          0.088510           0           0   \n",
      "2015-01-07            0.012546          0.251899           1           0   \n",
      "2015-01-08            0.028577          0.017915           1           1   \n",
      "2015-01-09            0.008476          0.238095           0           1   \n",
      "\n",
      "            lookback_3  lookback_4  lookback_5  lookback_6  lookback_7  \\\n",
      "Date                                                                     \n",
      "2015-01-05           0           0           0           0           0   \n",
      "2015-01-06           0           0           0           0           0   \n",
      "2015-01-07           0           0           0           0           0   \n",
      "2015-01-08           1           1           1           1           1   \n",
      "2015-01-09           1           1           1           1           1   \n",
      "\n",
      "            lookback_8  lookback_9  lookback_10  next_day  next_day_opposite  \n",
      "Date                                                                          \n",
      "2015-01-05           0           0            0         0                  1  \n",
      "2015-01-06           0           0            0         1                  0  \n",
      "2015-01-07           0           0            0         1                  0  \n",
      "2015-01-08           0           0            0         0                  1  \n",
      "2015-01-09           0           0            0         0                  1  \n",
      "(483, 20)\n",
      "[[ 0.          0.          0.          0.          0.          0.          0.\n",
      "   0.          0.          0.          0.          0.        ]\n",
      " [ 0.03496115  0.01645633  0.          0.          0.          0.          0.\n",
      "   0.          0.          0.          0.          0.        ]\n",
      " [ 0.01043383  0.15517737  1.          0.          0.          0.          0.\n",
      "   0.          0.          0.          0.          0.        ]\n",
      " [ 0.03465909  0.16521575  0.          0.          0.          0.          0.\n",
      "   0.          0.          0.          0.          0.        ]\n",
      " [ 0.01289961  0.11347511  1.          0.          0.          0.          0.\n",
      "   0.          0.          0.          0.          0.        ]]\n",
      "[[ 0.  1.]\n",
      " [ 1.  0.]\n",
      " [ 0.  1.]\n",
      " [ 1.  0.]\n",
      " [ 1.  0.]]\n",
      "(3774, 12)\n",
      "(3774, 2)\n"
     ]
    }
   ],
   "source": [
    "test_data = data['2015-01-03':]; print(test_data.head())\n",
    "print(test_data.shape)\n",
    "training_data = data['2000-01-03':'2015-01-02']\n",
    "training_features = np.asarray(training_data[predictor_names], dtype='float32'); print(training_features[:5])\n",
    "training_labels = np.asarray(training_data[['next_day', 'next_day_opposite']], dtype='float32'); print(training_labels[:5])\n",
    "print(training_features.shape)\n",
    "print(training_labels.shape)\n"
   ]
  },
  {
   "cell_type": "markdown",
   "metadata": {},
   "source": [
    "### Build the Network"
   ]
  },
  {
   "cell_type": "code",
   "execution_count": 80,
   "metadata": {
    "collapsed": false
   },
   "outputs": [],
   "source": [
    "input_dim = 2 + num_days_back # the 2 are: price_diff_percent  vol_diff_percent  \n",
    "num_output_classes = 2 # up is 1, down or neutral is 0\n",
    "#num_hidden_layers = 2\n",
    "num_hidden_layers = 3\n",
    "hidden_layers_dim = 50 # number of nodes per layer\n",
    "\n",
    "# Define container using Input()\n",
    "input = Input(input_dim)\n",
    "label = Input(num_output_classes)\n",
    "\n",
    "# Network architecture\n",
    "def create_model(input, num_output_classes):\n",
    "    h = input\n",
    "    for i in range(0, num_hidden_layers):\n",
    "        h = Dense(hidden_layers_dim, init=glorot_uniform(), activation = C.relu)(h)\n",
    "    return(Dense(num_output_classes, init=glorot_uniform(), activation = None)(h))\n",
    "\n",
    "z = create_model(input, num_output_classes)\n",
    "\n",
    "loss = C.cross_entropy_with_softmax(z, label)\n",
    "label_error = C.classification_error(z, label)\n",
    "\n",
    "lr_per_minibatch = learning_rate_schedule(0.125, UnitType.minibatch)\n",
    "\n",
    "trainer = cntk.Trainer(z, loss, label_error, [sgd(z.parameters, lr=lr_per_minibatch)])"
   ]
  },
  {
   "cell_type": "markdown",
   "metadata": {},
   "source": [
    "### Initialize the parameters for the trainer"
   ]
  },
  {
   "cell_type": "code",
   "execution_count": 81,
   "metadata": {
    "collapsed": false
   },
   "outputs": [],
   "source": [
    "minibatch_size = 100\n",
    "num_minibatches = len(training_data.index) // minibatch_size; #print(num_minibatches) -> 37\n",
    "\n",
    "training_progress_output_freq = 1\n",
    "\n",
    "plotdata = {'batchsize':[], 'loss':[], 'error':[]}"
   ]
  },
  {
   "cell_type": "markdown",
   "metadata": {},
   "source": [
    "### Utility to print training progress"
   ]
  },
  {
   "cell_type": "code",
   "execution_count": 82,
   "metadata": {
    "collapsed": true
   },
   "outputs": [],
   "source": [
    "def print_training_progress(trainer, mb, frequency, verbose=1):\n",
    "    training_loss = 'NA'\n",
    "    eval_error = 'NA'\n",
    "    if mb%frequency == 0:\n",
    "        training_loss = get_train_loss(trainer) #cntk function\n",
    "        eval_error = get_train_eval_criterion(trainer) #cntk function\n",
    "        if verbose:\n",
    "            print('Minibatch:{0}, Loss: {1:.4f}, Error: {2:.2f}%'.format(mb, training_loss, eval_error))\n",
    "                 # Minibatch:0, Loss: 0.6968, Error: 0.51%\n",
    "            \n",
    "    return mb, training_loss, eval_error"
   ]
  },
  {
   "cell_type": "markdown",
   "metadata": {},
   "source": [
    "### Explicitly split the training sequence"
   ]
  },
  {
   "cell_type": "code",
   "execution_count": 83,
   "metadata": {
    "collapsed": false,
    "scrolled": true
   },
   "outputs": [
    {
     "name": "stdout",
     "output_type": "stream",
     "text": [
      "37\n",
      "(102, 12)\n",
      "37\n",
      "(102, 2)\n",
      "[[ 0.          0.          0.         ...,  0.          0.          0.        ]\n",
      " [ 0.03496115  0.01645633  0.         ...,  0.          0.          0.        ]\n",
      " [ 0.01043383  0.15517737  1.         ...,  0.          0.          0.        ]\n",
      " ..., \n",
      " [ 0.03622498  0.32192826  1.         ...,  0.          0.          0.        ]\n",
      " [ 0.06605691  0.09397469  0.         ...,  0.          0.          0.        ]\n",
      " [ 0.00101729  0.69017231  0.         ...,  0.          0.          0.        ]]\n",
      "[[ 0.  1.]\n",
      " [ 1.  0.]\n",
      " [ 0.  1.]\n",
      " [ 1.  0.]\n",
      " [ 1.  0.]\n",
      " [ 0.  1.]\n",
      " [ 0.  1.]\n",
      " [ 1.  0.]\n",
      " [ 1.  0.]\n",
      " [ 1.  0.]\n",
      " [ 0.  1.]\n",
      " [ 0.  1.]\n",
      " [ 0.  1.]\n",
      " [ 0.  1.]\n",
      " [ 1.  0.]\n",
      " [ 0.  1.]\n",
      " [ 0.  1.]\n",
      " [ 0.  1.]\n",
      " [ 0.  1.]\n",
      " [ 1.  0.]\n",
      " [ 0.  1.]\n",
      " [ 1.  0.]\n",
      " [ 1.  0.]\n",
      " [ 1.  0.]\n",
      " [ 1.  0.]\n",
      " [ 0.  1.]\n",
      " [ 1.  0.]\n",
      " [ 0.  1.]\n",
      " [ 0.  1.]\n",
      " [ 0.  1.]\n",
      " [ 0.  1.]\n",
      " [ 1.  0.]\n",
      " [ 0.  1.]\n",
      " [ 0.  1.]\n",
      " [ 1.  0.]\n",
      " [ 1.  0.]\n",
      " [ 0.  1.]\n",
      " [ 1.  0.]\n",
      " [ 0.  1.]\n",
      " [ 1.  0.]\n",
      " [ 1.  0.]\n",
      " [ 1.  0.]\n",
      " [ 0.  1.]\n",
      " [ 1.  0.]\n",
      " [ 1.  0.]\n",
      " [ 1.  0.]\n",
      " [ 1.  0.]\n",
      " [ 0.  1.]\n",
      " [ 0.  1.]\n",
      " [ 1.  0.]\n",
      " [ 0.  1.]\n",
      " [ 1.  0.]\n",
      " [ 0.  1.]\n",
      " [ 1.  0.]\n",
      " [ 1.  0.]\n",
      " [ 1.  0.]\n",
      " [ 0.  1.]\n",
      " [ 0.  1.]\n",
      " [ 1.  0.]\n",
      " [ 1.  0.]\n",
      " [ 0.  1.]\n",
      " [ 1.  0.]\n",
      " [ 0.  1.]\n",
      " [ 0.  1.]\n",
      " [ 0.  1.]\n",
      " [ 0.  1.]\n",
      " [ 1.  0.]\n",
      " [ 0.  1.]\n",
      " [ 0.  1.]\n",
      " [ 0.  1.]\n",
      " [ 0.  1.]\n",
      " [ 0.  1.]\n",
      " [ 1.  0.]\n",
      " [ 1.  0.]\n",
      " [ 0.  1.]\n",
      " [ 1.  0.]\n",
      " [ 0.  1.]\n",
      " [ 1.  0.]\n",
      " [ 0.  1.]\n",
      " [ 1.  0.]\n",
      " [ 0.  1.]\n",
      " [ 1.  0.]\n",
      " [ 0.  1.]\n",
      " [ 1.  0.]\n",
      " [ 0.  1.]\n",
      " [ 1.  0.]\n",
      " [ 0.  1.]\n",
      " [ 0.  1.]\n",
      " [ 0.  1.]\n",
      " [ 1.  0.]\n",
      " [ 1.  0.]\n",
      " [ 1.  0.]\n",
      " [ 1.  0.]\n",
      " [ 0.  1.]\n",
      " [ 0.  1.]\n",
      " [ 0.  1.]\n",
      " [ 0.  1.]\n",
      " [ 0.  1.]\n",
      " [ 1.  0.]\n",
      " [ 0.  1.]\n",
      " [ 0.  1.]\n",
      " [ 1.  0.]]\n"
     ]
    }
   ],
   "source": [
    "tf = np.split(training_features, num_minibatches); print(len(tf)); print(tf[0].shape) \n",
    "tl = np.split(training_labels, num_minibatches); print(len(tl)); print(tl[0].shape)  \n",
    "# print the first sequence \n",
    "print(tf[0]) # 37 mini batches, each batch with 102 rows\n",
    "print(tl[0])"
   ]
  },
  {
   "cell_type": "markdown",
   "metadata": {},
   "source": [
    "### Train the NN"
   ]
  },
  {
   "cell_type": "code",
   "execution_count": 84,
   "metadata": {
    "collapsed": false,
    "scrolled": true
   },
   "outputs": [
    {
     "name": "stdout",
     "output_type": "stream",
     "text": [
      "Minibatch:0, Loss: 0.6999, Error: 0.47%\n",
      "Minibatch:1, Loss: 1.0971, Error: 0.56%\n",
      "Minibatch:2, Loss: 8.6827, Error: 0.49%\n",
      "Minibatch:3, Loss: 50.8600, Error: 0.53%\n",
      "Minibatch:4, Loss: 7611.3958, Error: 0.57%\n",
      "Minibatch:5, Loss: 128129.5980, Error: 0.54%\n",
      "Minibatch:6, Loss: 10434544.3137, Error: 0.50%\n",
      "Minibatch:7, Loss: 20999042549.9608, Error: 0.56%\n",
      "Minibatch:8, Loss: 49082332538250769465344.0000, Error: 0.52%\n",
      "Minibatch:9, Loss: 1239136733620231777411001221120.0000, Error: 0.46%\n",
      "Minibatch:10, Loss: 20745333421462868.0000, Error: 0.44%\n",
      "Minibatch:11, Loss: 1.0171, Error: 0.47%\n",
      "Minibatch:12, Loss: 2.8207, Error: 0.42%\n",
      "Minibatch:13, Loss: 1.9932, Error: 0.49%\n",
      "Minibatch:14, Loss: 3.5406, Error: 0.44%\n",
      "Minibatch:15, Loss: 1.8686, Error: 0.57%\n",
      "Minibatch:16, Loss: 6.0591, Error: 0.59%\n",
      "Minibatch:17, Loss: 2.4047, Error: 0.51%\n",
      "Minibatch:18, Loss: 4.0357, Error: 0.50%\n",
      "Minibatch:19, Loss: 2.4823, Error: 0.53%\n",
      "Minibatch:20, Loss: 3.7909, Error: 0.44%\n",
      "Minibatch:21, Loss: 1.6026, Error: 0.58%\n",
      "Minibatch:22, Loss: 5.1073, Error: 0.49%\n",
      "Minibatch:23, Loss: 0.9948, Error: 0.42%\n",
      "Minibatch:24, Loss: 3.3804, Error: 0.58%\n",
      "Minibatch:25, Loss: 4.2453, Error: 0.48%\n",
      "Minibatch:26, Loss: 1.7706, Error: 0.51%\n",
      "Minibatch:27, Loss: 4.6455, Error: 0.53%\n",
      "Minibatch:28, Loss: 2.4622, Error: 0.52%\n",
      "Minibatch:29, Loss: 4.1520, Error: 0.50%\n",
      "Minibatch:30, Loss: 1.8836, Error: 0.42%\n",
      "Minibatch:31, Loss: 3.5392, Error: 0.59%\n",
      "Minibatch:32, Loss: 5.0752, Error: 0.57%\n",
      "Minibatch:33, Loss: 2.6257, Error: 0.47%\n",
      "Minibatch:34, Loss: 3.3540, Error: 0.53%\n",
      "Minibatch:35, Loss: 3.6320, Error: 0.51%\n",
      "Minibatch:36, Loss: 2.9312, Error: 0.50%\n"
     ]
    }
   ],
   "source": [
    "# Only 1 pass through the data linearly in time\n",
    "num_passes = 1\n",
    "\n",
    "#print(num_minibatches*num_passes) \n",
    "\n",
    "for i in range(num_minibatches*num_passes): # num_minibatches*num_passes = 37*1\n",
    "    features = np.ascontiguousarray(tf[i%num_minibatches]) # http://stackoverflow.com/questions/26998223/what-is-the-difference-between-contiguous-and-non-contiguous-arrays\n",
    "    labels = np.ascontiguousarray(tl[i%num_minibatches])\n",
    "    #print(i%num_minibatches)\n",
    "    \n",
    "    #Specify the mapping of input variables in the model to actual minibatch data to be trained with\n",
    "    trainer.train_minibatch({input:features, label:labels})\n",
    "    batchsize, loss, error = print_training_progress(trainer, i, training_progress_output_freq)\n",
    "    \n",
    "    if not (loss == 'NA' or error == 'NA'):\n",
    "            plotdata['batchsize'].append(batchsize)\n",
    "            plotdata['loss'].append(loss)\n",
    "            plotdata['error'].append(error)"
   ]
  },
  {
   "cell_type": "markdown",
   "metadata": {},
   "source": [
    "### Plot training progress"
   ]
  },
  {
   "cell_type": "code",
   "execution_count": 85,
   "metadata": {
    "collapsed": false
   },
   "outputs": [
    {
     "data": {
      "image/png": "[encoded data removed]",
      "text/plain": [
       "<matplotlib.figure.Figure at 0xb3e8cf8>"
      ]
     },
     "metadata": {},
     "output_type": "display_data"
    },
    {
     "data": {
      "image/png": "[encoded data removed]",
      "text/plain": [
       "<matplotlib.figure.Figure at 0xb44ef28>"
      ]
     },
     "metadata": {},
     "output_type": "display_data"
    }
   ],
   "source": [
    "import matplotlib.pyplot as plt\n",
    "\n",
    "plt.figure(1)\n",
    "plt.subplot(211)\n",
    "plt.plot(plotdata['batchsize'], plotdata['loss'], 'b--')\n",
    "plt.xlabel('Minibatch number')\n",
    "plt.ylabel('Loss')\n",
    "plt.title('Minibatch Run vs. Training Loss')\n",
    "plt.show()\n",
    "\n",
    "plt.subplot(212)\n",
    "plt.plot(plotdata['batchsize'], plotdata['error'], 'r--')\n",
    "plt.xlabel('Minibatch number')\n",
    "plt.ylabel('Error')\n",
    "plt.title('Minibatch run vs. Training Error')\n",
    "plt.show()"
   ]
  },
  {
   "cell_type": "markdown",
   "metadata": {},
   "source": [
    "### Test the model"
   ]
  },
  {
   "cell_type": "code",
   "execution_count": 86,
   "metadata": {
    "collapsed": false
   },
   "outputs": [
    {
     "name": "stdout",
     "output_type": "stream",
     "text": [
      "Average error: 49.48%\n"
     ]
    }
   ],
   "source": [
    "test_features = np.ascontiguousarray(test_data[predictor_names], dtype='float32')\n",
    "#test_labels = np.ascontiguousarray(test_data[['next_day','next_day_opposite']], dtype='float32')\n",
    "test_labels = np.ascontiguousarray(test_data[[\"next_day\",\"next_day_opposite\"]], dtype=\"float32\")\n",
    "\n",
    "avg_error = trainer.test_minibatch({input:test_features, label:test_labels})\n",
    "print('Average error: {0:2.2f}%'.format(avg_error*100))"
   ]
  },
  {
   "cell_type": "code",
   "execution_count": 87,
   "metadata": {
    "collapsed": true
   },
   "outputs": [],
   "source": [
    "### Plot the ups and donws: how??"
   ]
  },
  {
   "cell_type": "markdown",
   "metadata": {},
   "source": [
    "### Some nitty gritty"
   ]
  },
  {
   "cell_type": "code",
   "execution_count": 88,
   "metadata": {
    "collapsed": false
   },
   "outputs": [
    {
     "name": "stdout",
     "output_type": "stream",
     "text": [
      "Date\n",
      "2000-01-03       NaN\n",
      "2000-01-04   -3.9375\n",
      "2000-01-05    1.1875\n",
      "2000-01-06   -3.8125\n",
      "2000-01-07    1.4375\n",
      "2000-01-10    0.8125\n",
      "Name: Close, dtype: float64\n",
      "Date\n",
      "2000-01-03       NaN\n",
      "2000-01-04    3.9375\n",
      "2000-01-05   -1.1875\n",
      "2000-01-06    3.8125\n",
      "2000-01-07   -1.4375\n",
      "2000-01-10   -0.8125\n",
      "Name: Close, dtype: float64\n",
      "Date\n",
      "2000-01-03    3.9375\n",
      "2000-01-04   -1.1875\n",
      "2000-01-05    3.8125\n",
      "2000-01-06   -1.4375\n",
      "2000-01-07   -0.8125\n",
      "2000-01-10       NaN\n",
      "Name: Close, dtype: float64\n"
     ]
    }
   ],
   "source": [
    "# 2000-01-03 - 2000-01-04 // tomorrow - today\n",
    "print(data['2000-01-03': '2000-01-10']['Close'] - data['2000-01-03': '2000-01-10']['Close'].shift(1))\n",
    "# 2000-01-03 - 2000-01-04 // today - tomorrow\n",
    "print(data['2000-01-03': '2000-01-10']['Close'].shift(1) - data['2000-01-03': '2000-01-10']['Close']) # put in tomorrow\n",
    "print(data['2000-01-03': '2000-01-10']['Close'] - data['2000-01-03': '2000-01-10']['Close'].shift(-1)) # put in today"
   ]
  },
  {
   "cell_type": "code",
   "execution_count": 89,
   "metadata": {
    "collapsed": false
   },
   "outputs": [
    {
     "data": {
      "text/plain": [
       "Date\n",
       "2000-01-03    116.5625\n",
       "2000-01-04    112.6250\n",
       "2000-01-05    113.8125\n",
       "2000-01-06    110.0000\n",
       "2000-01-07    111.4375\n",
       "2000-01-10    112.2500\n",
       "Name: Close, dtype: float64"
      ]
     },
     "execution_count": 89,
     "metadata": {},
     "output_type": "execute_result"
    }
   ],
   "source": [
    "data['2000-01-03': '2000-01-10']['Close']"
   ]
  },
  {
   "cell_type": "code",
   "execution_count": 90,
   "metadata": {
    "collapsed": false
   },
   "outputs": [
    {
     "data": {
      "text/plain": [
       "Date\n",
       "2000-01-03         NaN\n",
       "2000-01-04    116.5625\n",
       "2000-01-05    112.6250\n",
       "2000-01-06    113.8125\n",
       "2000-01-07    110.0000\n",
       "2000-01-10    111.4375\n",
       "Name: Close, dtype: float64"
      ]
     },
     "execution_count": 90,
     "metadata": {},
     "output_type": "execute_result"
    }
   ],
   "source": [
    "data['2000-01-03': '2000-01-10']['Close'].shift(1)"
   ]
  },
  {
   "cell_type": "code",
   "execution_count": 91,
   "metadata": {
    "collapsed": false
   },
   "outputs": [
    {
     "data": {
      "text/plain": [
       "Date\n",
       "2000-01-03    112.6250\n",
       "2000-01-04    113.8125\n",
       "2000-01-05    110.0000\n",
       "2000-01-06    111.4375\n",
       "2000-01-07    112.2500\n",
       "2000-01-10         NaN\n",
       "Name: Close, dtype: float64"
      ]
     },
     "execution_count": 91,
     "metadata": {},
     "output_type": "execute_result"
    }
   ],
   "source": [
    "data['2000-01-03': '2000-01-10']['Close'].shift(-1)"
   ]
  },
  {
   "cell_type": "code",
   "execution_count": 92,
   "metadata": {
    "collapsed": false
   },
   "outputs": [
    {
     "name": "stdout",
     "output_type": "stream",
     "text": [
      "37.74\n",
      "37\n"
     ]
    }
   ],
   "source": [
    "num_minibatches = len(training_data.index) / minibatch_size; print(num_minibatches)\n",
    "num_minibatches = len(training_data.index) // minibatch_size; print(num_minibatches)"
   ]
  },
  {
   "cell_type": "code",
   "execution_count": null,
   "metadata": {
    "collapsed": true
   },
   "outputs": [],
   "source": []
  }
 ],
 "metadata": {
  "kernelspec": {
   "display_name": "Python 3",
   "language": "python",
   "name": "python3"
  },
  "language_info": {
   "codemirror_mode": {
    "name": "ipython",
    "version": 3
   },
   "file_extension": ".py",
   "mimetype": "text/x-python",
   "name": "python",
   "nbconvert_exporter": "python",
   "pygments_lexer": "ipython3",
   "version": "3.4.4"
  },
  "widgets": {
   "state": {},
   "version": "1.1.2"
  }
 },
 "nbformat": 4,
 "nbformat_minor": 1
}
