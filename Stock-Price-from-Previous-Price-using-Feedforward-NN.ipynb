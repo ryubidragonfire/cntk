{
 "cells": [
  {
   "cell_type": "markdown",
   "metadata": {},
   "source": [
    "# Stock Price Prediction as a Classification Problem\n",
    "Objective: Predict today's from past n number of days.\n",
    "\n",
    "Tool: CNTK\n",
    "\n",
    "NN: Feedforward + relu"
   ]
  },
  {
   "cell_type": "code",
   "execution_count": 64,
   "metadata": {
    "collapsed": true
   },
   "outputs": [],
   "source": [
    "import numpy as np\n",
    "import cntk\n",
    "import cntk.ops as C\n",
    "\n",
    "from cntk.blocks import default_options, Input   # Building blocks\n",
    "from cntk.initializer import glorot_uniform\n",
    "from cntk.layers import Dense                    # Layers\n",
    "from cntk.learner import sgd, learning_rate_schedule, UnitType\n",
    "from cntk.utils import get_train_eval_criterion, get_train_loss, ProgressPrinter, get_train_loss\n",
    "\n",
    "import datetime\n",
    "import pandas as pd\n",
    "pd.options.mode.chained_assignment = None  # default='warn'"
   ]
  },
  {
   "cell_type": "markdown",
   "metadata": {},
   "source": [
    "### Utility to download stock data from open source"
   ]
  },
  {
   "cell_type": "code",
   "execution_count": 65,
   "metadata": {
    "collapsed": true
   },
   "outputs": [],
   "source": [
    "# A method which obtains stock data from Yahoo finance\n",
    "# Requires that you have an internet connection to retreive stock data from Yahoo finance\n",
    "try:\n",
    "    from pandas_datareader import data\n",
    "except ImportError:\n",
    "    !pip install pandas_datareader\n",
    "    from pandas_datareader import data\n",
    "\n",
    "def get_stock_data(contract, s_year, s_month, s_day, e_year, e_month, e_day):\n",
    "    \"\"\"\n",
    "    Args:\n",
    "        contract (str): the name of the stock/etf\n",
    "        s_year (int): start year for data\n",
    "        s_month (int): start month\n",
    "        s_day (int): start day\n",
    "        e_year (int): end year\n",
    "        e_month (int): end month\n",
    "        e_day (int): end day\n",
    "    Returns:\n",
    "        Pandas Dataframe: Daily OHLCV bars\n",
    "    \"\"\"\n",
    "    start = datetime.datetime(s_year, s_month, s_day)\n",
    "    end = datetime.datetime(e_year, e_month, e_day)\n",
    "    bars = data.get_data_yahoo(contract, start, end)\n",
    "    return bars"
   ]
  },
  {
   "cell_type": "code",
   "execution_count": 66,
   "metadata": {
    "collapsed": false
   },
   "outputs": [
    {
     "data": {
      "text/html": [
       "<div>\n",
       "<table border=\"1\" class=\"dataframe\">\n",
       "  <thead>\n",
       "    <tr style=\"text-align: right;\">\n",
       "      <th></th>\n",
       "      <th>Open</th>\n",
       "      <th>High</th>\n",
       "      <th>Low</th>\n",
       "      <th>Close</th>\n",
       "      <th>Volume</th>\n",
       "      <th>Adj Close</th>\n",
       "    </tr>\n",
       "    <tr>\n",
       "      <th>Date</th>\n",
       "      <th></th>\n",
       "      <th></th>\n",
       "      <th></th>\n",
       "      <th></th>\n",
       "      <th></th>\n",
       "      <th></th>\n",
       "    </tr>\n",
       "  </thead>\n",
       "  <tbody>\n",
       "    <tr>\n",
       "      <th>2000-01-03</th>\n",
       "      <td>117.3750</td>\n",
       "      <td>118.625</td>\n",
       "      <td>112.0000</td>\n",
       "      <td>116.5625</td>\n",
       "      <td>53228400</td>\n",
       "      <td>39.573098</td>\n",
       "    </tr>\n",
       "    <tr>\n",
       "      <th>2000-01-04</th>\n",
       "      <td>113.5625</td>\n",
       "      <td>117.125</td>\n",
       "      <td>112.2500</td>\n",
       "      <td>112.6250</td>\n",
       "      <td>54119000</td>\n",
       "      <td>38.236313</td>\n",
       "    </tr>\n",
       "    <tr>\n",
       "      <th>2000-01-05</th>\n",
       "      <td>111.1250</td>\n",
       "      <td>116.375</td>\n",
       "      <td>109.3750</td>\n",
       "      <td>113.8125</td>\n",
       "      <td>64059600</td>\n",
       "      <td>38.639470</td>\n",
       "    </tr>\n",
       "    <tr>\n",
       "      <th>2000-01-06</th>\n",
       "      <td>112.1875</td>\n",
       "      <td>113.875</td>\n",
       "      <td>108.3750</td>\n",
       "      <td>110.0000</td>\n",
       "      <td>54976600</td>\n",
       "      <td>37.345122</td>\n",
       "    </tr>\n",
       "    <tr>\n",
       "      <th>2000-01-07</th>\n",
       "      <td>108.6250</td>\n",
       "      <td>112.250</td>\n",
       "      <td>107.3125</td>\n",
       "      <td>111.4375</td>\n",
       "      <td>62013600</td>\n",
       "      <td>37.833155</td>\n",
       "    </tr>\n",
       "  </tbody>\n",
       "</table>\n",
       "</div>"
      ],
      "text/plain": [
       "                Open     High       Low     Close    Volume  Adj Close\n",
       "Date                                                                  \n",
       "2000-01-03  117.3750  118.625  112.0000  116.5625  53228400  39.573098\n",
       "2000-01-04  113.5625  117.125  112.2500  112.6250  54119000  38.236313\n",
       "2000-01-05  111.1250  116.375  109.3750  113.8125  64059600  38.639470\n",
       "2000-01-06  112.1875  113.875  108.3750  110.0000  54976600  37.345122\n",
       "2000-01-07  108.6250  112.250  107.3125  111.4375  62013600  37.833155"
      ]
     },
     "execution_count": 66,
     "metadata": {},
     "output_type": "execute_result"
    }
   ],
   "source": [
    "data = get_stock_data(\"MSFT\", 2000,1,2,2016,12,1)\n",
    "data.head()"
   ]
  },
  {
   "cell_type": "code",
   "execution_count": 67,
   "metadata": {
    "collapsed": false
   },
   "outputs": [
    {
     "data": {
      "text/plain": [
       "Date\n",
       "2000-01-03    117.3750\n",
       "2000-01-04    113.5625\n",
       "2000-01-05    111.1250\n",
       "2000-01-06    112.1875\n",
       "2000-01-07    108.6250\n",
       "2000-01-10    113.4375\n",
       "Name: Open, dtype: float64"
      ]
     },
     "execution_count": 67,
     "metadata": {},
     "output_type": "execute_result"
    }
   ],
   "source": [
    "#type(data)\n",
    "#data.shape\n",
    "#data['Open']\n",
    "#data.axes\n",
    "data['2000-01-03':'2000-01-10']['Open']"
   ]
  },
  {
   "cell_type": "markdown",
   "metadata": {},
   "source": [
    "### Plot downloaded data"
   ]
  },
  {
   "cell_type": "code",
   "execution_count": 68,
   "metadata": {
    "collapsed": false
   },
   "outputs": [
    {
     "data": {
      "image/png": "[encoded data removed]",
      "text/plain": [
       "<matplotlib.figure.Figure at 0x77fb358>"
      ]
     },
     "metadata": {},
     "output_type": "display_data"
    }
   ],
   "source": [
    "import matplotlib.pyplot as plt\n",
    "plt.figure(1)\n",
    "plt.plot(data[:]['Open'], 'b--'); # plt.plot(data['2000-01-03':'2001-01-03']['Open'], 'b--')\n",
    "plt.xlabel('Date')\n",
    "plt.ylabel('Open')\n",
    "plt.show()"
   ]
  },
  {
   "cell_type": "markdown",
   "metadata": {},
   "source": [
    "### Create features from raw data"
   ]
  },
  {
   "cell_type": "code",
   "execution_count": 116,
   "metadata": {
    "collapsed": false
   },
   "outputs": [],
   "source": [
    "#feature name List\n",
    "predictor_names = []\n",
    "\n",
    "# price difference as percentage, fill NA with 0\n",
    "data['price_diff_percent'] = np.abs((data['Close'] - data['Close'].shift(1))/data['Close']).fillna(0) # fill NA with 0\n",
    "predictor_names.append('price_diff_percent')\n",
    "\n",
    "# volume difference as percentage, fill NA with 0\n",
    "data['vol_diff_percent'] = np.abs((data['Volume'] - data['Volume'].shift(1))/data['Volume']).fillna(0) # fill NA with 0\n",
    "predictor_names.append('vol_diff_percent')\n",
    "\n",
    "# give label such that up is 1, same or down is 0 \n",
    "# TODO: up is 2, same is 1 or down is 0\n",
    "num_days_back = 7\n",
    "\n",
    "for i in range(1, num_days_back+1):\n",
    "    data['lookback_' + str(i)] = np.where(data['Close'] > data['Close'].shift(i), 1, 0)\n",
    "    predictor_names.append('lookback_' + str(i))\n",
    "    \n",
    "\n",
    "    "
   ]
  },
  {
   "cell_type": "code",
   "execution_count": 117,
   "metadata": {
    "collapsed": false
   },
   "outputs": [
    {
     "data": {
      "text/html": [
       "<div>\n",
       "<table border=\"1\" class=\"dataframe\">\n",
       "  <thead>\n",
       "    <tr style=\"text-align: right;\">\n",
       "      <th></th>\n",
       "      <th>Open</th>\n",
       "      <th>High</th>\n",
       "      <th>Low</th>\n",
       "      <th>Close</th>\n",
       "      <th>Volume</th>\n",
       "      <th>Adj Close</th>\n",
       "      <th>diff</th>\n",
       "      <th>v_diff</th>\n",
       "      <th>back_1</th>\n",
       "      <th>back_2</th>\n",
       "      <th>...</th>\n",
       "      <th>next_day_opposite</th>\n",
       "      <th>price_diff_percent</th>\n",
       "      <th>vol_diff_percent</th>\n",
       "      <th>lookback_1</th>\n",
       "      <th>lookback_2</th>\n",
       "      <th>lookback_3</th>\n",
       "      <th>lookback_4</th>\n",
       "      <th>lookback_5</th>\n",
       "      <th>lookback_6</th>\n",
       "      <th>lookback_7</th>\n",
       "    </tr>\n",
       "    <tr>\n",
       "      <th>Date</th>\n",
       "      <th></th>\n",
       "      <th></th>\n",
       "      <th></th>\n",
       "      <th></th>\n",
       "      <th></th>\n",
       "      <th></th>\n",
       "      <th></th>\n",
       "      <th></th>\n",
       "      <th></th>\n",
       "      <th></th>\n",
       "      <th></th>\n",
       "      <th></th>\n",
       "      <th></th>\n",
       "      <th></th>\n",
       "      <th></th>\n",
       "      <th></th>\n",
       "      <th></th>\n",
       "      <th></th>\n",
       "      <th></th>\n",
       "      <th></th>\n",
       "      <th></th>\n",
       "    </tr>\n",
       "  </thead>\n",
       "  <tbody>\n",
       "    <tr>\n",
       "      <th>2000-01-03</th>\n",
       "      <td>117.3750</td>\n",
       "      <td>118.625</td>\n",
       "      <td>112.0000</td>\n",
       "      <td>116.5625</td>\n",
       "      <td>53228400</td>\n",
       "      <td>39.573098</td>\n",
       "      <td>0.000000</td>\n",
       "      <td>0.000000</td>\n",
       "      <td>0</td>\n",
       "      <td>0</td>\n",
       "      <td>...</td>\n",
       "      <td>1</td>\n",
       "      <td>0.000000</td>\n",
       "      <td>0.000000</td>\n",
       "      <td>0</td>\n",
       "      <td>0</td>\n",
       "      <td>0</td>\n",
       "      <td>0</td>\n",
       "      <td>0</td>\n",
       "      <td>0</td>\n",
       "      <td>0</td>\n",
       "    </tr>\n",
       "    <tr>\n",
       "      <th>2000-01-04</th>\n",
       "      <td>113.5625</td>\n",
       "      <td>117.125</td>\n",
       "      <td>112.2500</td>\n",
       "      <td>112.6250</td>\n",
       "      <td>54119000</td>\n",
       "      <td>38.236313</td>\n",
       "      <td>0.034961</td>\n",
       "      <td>0.016456</td>\n",
       "      <td>0</td>\n",
       "      <td>0</td>\n",
       "      <td>...</td>\n",
       "      <td>0</td>\n",
       "      <td>0.034961</td>\n",
       "      <td>0.016456</td>\n",
       "      <td>0</td>\n",
       "      <td>0</td>\n",
       "      <td>0</td>\n",
       "      <td>0</td>\n",
       "      <td>0</td>\n",
       "      <td>0</td>\n",
       "      <td>0</td>\n",
       "    </tr>\n",
       "    <tr>\n",
       "      <th>2000-01-05</th>\n",
       "      <td>111.1250</td>\n",
       "      <td>116.375</td>\n",
       "      <td>109.3750</td>\n",
       "      <td>113.8125</td>\n",
       "      <td>64059600</td>\n",
       "      <td>38.639470</td>\n",
       "      <td>0.010434</td>\n",
       "      <td>0.155177</td>\n",
       "      <td>1</td>\n",
       "      <td>0</td>\n",
       "      <td>...</td>\n",
       "      <td>1</td>\n",
       "      <td>0.010434</td>\n",
       "      <td>0.155177</td>\n",
       "      <td>1</td>\n",
       "      <td>0</td>\n",
       "      <td>0</td>\n",
       "      <td>0</td>\n",
       "      <td>0</td>\n",
       "      <td>0</td>\n",
       "      <td>0</td>\n",
       "    </tr>\n",
       "    <tr>\n",
       "      <th>2000-01-06</th>\n",
       "      <td>112.1875</td>\n",
       "      <td>113.875</td>\n",
       "      <td>108.3750</td>\n",
       "      <td>110.0000</td>\n",
       "      <td>54976600</td>\n",
       "      <td>37.345122</td>\n",
       "      <td>0.034659</td>\n",
       "      <td>0.165216</td>\n",
       "      <td>0</td>\n",
       "      <td>0</td>\n",
       "      <td>...</td>\n",
       "      <td>0</td>\n",
       "      <td>0.034659</td>\n",
       "      <td>0.165216</td>\n",
       "      <td>0</td>\n",
       "      <td>0</td>\n",
       "      <td>0</td>\n",
       "      <td>0</td>\n",
       "      <td>0</td>\n",
       "      <td>0</td>\n",
       "      <td>0</td>\n",
       "    </tr>\n",
       "    <tr>\n",
       "      <th>2000-01-07</th>\n",
       "      <td>108.6250</td>\n",
       "      <td>112.250</td>\n",
       "      <td>107.3125</td>\n",
       "      <td>111.4375</td>\n",
       "      <td>62013600</td>\n",
       "      <td>37.833155</td>\n",
       "      <td>0.012900</td>\n",
       "      <td>0.113475</td>\n",
       "      <td>1</td>\n",
       "      <td>0</td>\n",
       "      <td>...</td>\n",
       "      <td>0</td>\n",
       "      <td>0.012900</td>\n",
       "      <td>0.113475</td>\n",
       "      <td>1</td>\n",
       "      <td>0</td>\n",
       "      <td>0</td>\n",
       "      <td>0</td>\n",
       "      <td>0</td>\n",
       "      <td>0</td>\n",
       "      <td>0</td>\n",
       "    </tr>\n",
       "  </tbody>\n",
       "</table>\n",
       "<p>5 rows × 26 columns</p>\n",
       "</div>"
      ],
      "text/plain": [
       "                Open     High       Low     Close    Volume  Adj Close  \\\n",
       "Date                                                                     \n",
       "2000-01-03  117.3750  118.625  112.0000  116.5625  53228400  39.573098   \n",
       "2000-01-04  113.5625  117.125  112.2500  112.6250  54119000  38.236313   \n",
       "2000-01-05  111.1250  116.375  109.3750  113.8125  64059600  38.639470   \n",
       "2000-01-06  112.1875  113.875  108.3750  110.0000  54976600  37.345122   \n",
       "2000-01-07  108.6250  112.250  107.3125  111.4375  62013600  37.833155   \n",
       "\n",
       "                diff    v_diff  back_1  back_2     ...      next_day_opposite  \\\n",
       "Date                                               ...                          \n",
       "2000-01-03  0.000000  0.000000       0       0     ...                      1   \n",
       "2000-01-04  0.034961  0.016456       0       0     ...                      0   \n",
       "2000-01-05  0.010434  0.155177       1       0     ...                      1   \n",
       "2000-01-06  0.034659  0.165216       0       0     ...                      0   \n",
       "2000-01-07  0.012900  0.113475       1       0     ...                      0   \n",
       "\n",
       "            price_diff_percent  vol_diff_percent  lookback_1  lookback_2  \\\n",
       "Date                                                                       \n",
       "2000-01-03            0.000000          0.000000           0           0   \n",
       "2000-01-04            0.034961          0.016456           0           0   \n",
       "2000-01-05            0.010434          0.155177           1           0   \n",
       "2000-01-06            0.034659          0.165216           0           0   \n",
       "2000-01-07            0.012900          0.113475           1           0   \n",
       "\n",
       "            lookback_3  lookback_4  lookback_5  lookback_6  lookback_7  \n",
       "Date                                                                    \n",
       "2000-01-03           0           0           0           0           0  \n",
       "2000-01-04           0           0           0           0           0  \n",
       "2000-01-05           0           0           0           0           0  \n",
       "2000-01-06           0           0           0           0           0  \n",
       "2000-01-07           0           0           0           0           0  \n",
       "\n",
       "[5 rows x 26 columns]"
      ]
     },
     "execution_count": 117,
     "metadata": {},
     "output_type": "execute_result"
    }
   ],
   "source": [
    "data.head()"
   ]
  },
  {
   "cell_type": "code",
   "execution_count": 118,
   "metadata": {
    "collapsed": false
   },
   "outputs": [],
   "source": [
    "# save data\n",
    "filename = './data/feature.tsv'\n",
    "data.to_csv(filename, sep='\\t')"
   ]
  },
  {
   "cell_type": "markdown",
   "metadata": {},
   "source": [
    "### Prepare label"
   ]
  },
  {
   "cell_type": "code",
   "execution_count": 119,
   "metadata": {
    "collapsed": false
   },
   "outputs": [
    {
     "name": "stdout",
     "output_type": "stream",
     "text": [
      "Date\n",
      "2000-01-03    0\n",
      "2000-01-04    1\n",
      "2000-01-05    0\n",
      "2000-01-06    1\n",
      "2000-01-07    1\n",
      "Name: next_day, dtype: int32\n",
      "Date\n",
      "2000-01-03    1\n",
      "2000-01-04    0\n",
      "2000-01-05    1\n",
      "2000-01-06    0\n",
      "2000-01-07    0\n",
      "Name: next_day_opposite, dtype: int32\n"
     ]
    }
   ],
   "source": [
    "# prepare the prediction, i.e. label\n",
    "data['next_day'] = np.where(data['Close'].shift(-1)>data['Close'], 1, 0) # put in today * see 'Some nitty gritty'\n",
    "data['next_day_opposite'] = np.where(data['next_day'] == 1, 0, 1) # why reverse it? Will turn into 1-hot. see *'Preparing training and testing data'\n",
    "print(data['next_day'].head())\n",
    "print(data['next_day_opposite'].head())"
   ]
  },
  {
   "cell_type": "markdown",
   "metadata": {},
   "source": [
    "### Prepare training data and test data"
   ]
  },
  {
   "cell_type": "code",
   "execution_count": 125,
   "metadata": {
    "collapsed": false
   },
   "outputs": [
    {
     "name": "stdout",
     "output_type": "stream",
     "text": [
      "            price_diff_percent  vol_diff_percent  lookback_1  lookback_2  \\\n",
      "Date                                                                       \n",
      "2015-01-05            0.009281          0.296417           0           0   \n",
      "2015-01-06            0.014896          0.088510           0           0   \n",
      "2015-01-07            0.012546          0.251899           1           0   \n",
      "2015-01-08            0.028577          0.017915           1           1   \n",
      "2015-01-09            0.008476          0.238095           0           1   \n",
      "\n",
      "            lookback_3  lookback_4  lookback_5  lookback_6  lookback_7  \n",
      "Date                                                                    \n",
      "2015-01-05           0           0           0           0           0  \n",
      "2015-01-06           0           0           0           0           0  \n",
      "2015-01-07           0           0           0           0           0  \n",
      "2015-01-08           1           1           1           1           1  \n",
      "2015-01-09           1           1           1           1           1  \n",
      "(483, 9)\n",
      "[[ 0.          0.          0.          0.          0.          0.          0.\n",
      "   0.          0.        ]\n",
      " [ 0.03496115  0.01645633  0.          0.          0.          0.          0.\n",
      "   0.          0.        ]\n",
      " [ 0.01043383  0.15517737  1.          0.          0.          0.          0.\n",
      "   0.          0.        ]\n",
      " [ 0.03465909  0.16521575  0.          0.          0.          0.          0.\n",
      "   0.          0.        ]\n",
      " [ 0.01289961  0.11347511  1.          0.          0.          0.          0.\n",
      "   0.          0.        ]]\n",
      "[[ 0.  1.]\n",
      " [ 1.  0.]\n",
      " [ 0.  1.]\n",
      " [ 1.  0.]\n",
      " [ 1.  0.]]\n",
      "(3774, 9)\n",
      "(3774, 2)\n"
     ]
    }
   ],
   "source": [
    "test_data = data['2015-01-03':][predictor_names]; print(test_data.head())\n",
    "print(test_data.shape)\n",
    "training_data = data['2000-01-03':'2015-01-02']\n",
    "training_features = np.asarray(training_data[predictor_names], dtype='float32'); print(training_features[:5])\n",
    "training_labels = np.asarray(training_data[['next_day', 'next_day_opposite']], dtype='float32'); print(training_labels[:5])\n",
    "print(training_features.shape)\n",
    "print(training_labels.shape)\n"
   ]
  },
  {
   "cell_type": "markdown",
   "metadata": {},
   "source": [
    "### Build the Network"
   ]
  },
  {
   "cell_type": "code",
   "execution_count": 128,
   "metadata": {
    "collapsed": false
   },
   "outputs": [],
   "source": [
    "input_dim = 2 + num_days_back # the 2 are: price_diff_percent  vol_diff_percent  \n",
    "num_output_classes = 2 # up is 1, down or neutral is 0\n",
    "num_hidden_layers = 2\n",
    "hidden_layers_dim = 50 # number of nodes per layer\n",
    "\n",
    "# Define container using Input()\n",
    "input = Input(input_dim)\n",
    "label = Input(num_output_classes)\n",
    "\n",
    "# Network architecture\n",
    "def create_model(input, num_output_classes):\n",
    "    h = input\n",
    "    for i in range(0, num_hidden_layers):\n",
    "        h = Dense(hidden_layers_dim, init=glorot_uniform(), activation = C.relu)(h)\n",
    "    return(Dense(num_output_classes, init=glorot_uniform(), activation = None)(h))\n",
    "\n",
    "z = create_model(input, num_output_classes)\n",
    "\n",
    "loss = C.cross_entropy_with_softmax(z, label)\n",
    "label_error = C.classification_error(z, label)\n",
    "\n",
    "lr_per_minibatch = learning_rate_schedule(0.125, UnitType.minibatch)\n",
    "\n",
    "trainer = cntk.Trainer(z, loss, label_error, [sgd(z.parameters, lr=lr_per_minibatch)])"
   ]
  },
  {
   "cell_type": "markdown",
   "metadata": {},
   "source": [
    "### Initialize the parameters for the trainer"
   ]
  },
  {
   "cell_type": "code",
   "execution_count": 135,
   "metadata": {
    "collapsed": false
   },
   "outputs": [],
   "source": [
    "minibatch_size = 100\n",
    "num_minibatches = len(training_data.index) // minibatch_size; #print(num_minibatches) -> 37\n",
    "\n",
    "training_progress_output_freq = 1\n",
    "\n",
    "plotdata = {'batchsize':[], 'loss':[], 'error':[]}"
   ]
  },
  {
   "cell_type": "markdown",
   "metadata": {},
   "source": [
    "### Utility to print training progress"
   ]
  },
  {
   "cell_type": "code",
   "execution_count": 148,
   "metadata": {
    "collapsed": true
   },
   "outputs": [],
   "source": [
    "def print_training_progress(trainer, mb, frequency, verbose=1):\n",
    "    training_loss = 'NA'\n",
    "    eval_error = 'NA'\n",
    "    if mb%frequency == 0:\n",
    "        training_loss = get_train_loss(trainer) #cntk function\n",
    "        eval_error = get_train_eval_criterion(trainer) #cntk function\n",
    "        if verbose:\n",
    "            print('Minibatch:{0}, Loss: {1:.4f}, Error: {2:.2f}%'.format(mb, training_loss, eval_error))\n",
    "                 # Minibatch:0, Loss: 0.6968, Error: 0.51%\n",
    "            \n",
    "    return mb, training_loss, eval_error"
   ]
  },
  {
   "cell_type": "markdown",
   "metadata": {},
   "source": [
    "### Explicitly split the training sequence"
   ]
  },
  {
   "cell_type": "code",
   "execution_count": 146,
   "metadata": {
    "collapsed": false
   },
   "outputs": [
    {
     "name": "stdout",
     "output_type": "stream",
     "text": [
      "37\n",
      "(102, 9)\n",
      "37\n",
      "(102, 2)\n",
      "[[  0.00000000e+00   0.00000000e+00   0.00000000e+00   0.00000000e+00\n",
      "    0.00000000e+00   0.00000000e+00   0.00000000e+00   0.00000000e+00\n",
      "    0.00000000e+00]\n",
      " [  3.49611528e-02   1.64563283e-02   0.00000000e+00   0.00000000e+00\n",
      "    0.00000000e+00   0.00000000e+00   0.00000000e+00   0.00000000e+00\n",
      "    0.00000000e+00]\n",
      " [  1.04338275e-02   1.55177370e-01   1.00000000e+00   0.00000000e+00\n",
      "    0.00000000e+00   0.00000000e+00   0.00000000e+00   0.00000000e+00\n",
      "    0.00000000e+00]\n",
      " [  3.46590914e-02   1.65215746e-01   0.00000000e+00   0.00000000e+00\n",
      "    0.00000000e+00   0.00000000e+00   0.00000000e+00   0.00000000e+00\n",
      "    0.00000000e+00]\n",
      " [  1.28996074e-02   1.13475107e-01   1.00000000e+00   0.00000000e+00\n",
      "    0.00000000e+00   0.00000000e+00   0.00000000e+00   0.00000000e+00\n",
      "    0.00000000e+00]\n",
      " [  7.23830750e-03   3.79195631e-01   1.00000000e+00   1.00000000e+00\n",
      "    0.00000000e+00   0.00000000e+00   0.00000000e+00   0.00000000e+00\n",
      "    0.00000000e+00]\n",
      " [  2.62857135e-02   3.80800776e-02   0.00000000e+00   0.00000000e+00\n",
      "    0.00000000e+00   0.00000000e+00   0.00000000e+00   0.00000000e+00\n",
      "    0.00000000e+00]\n",
      " [  3.36680450e-02   2.97431022e-01   0.00000000e+00   0.00000000e+00\n",
      "    0.00000000e+00   0.00000000e+00   0.00000000e+00   0.00000000e+00\n",
      "    0.00000000e+00]\n",
      " [  1.85507238e-02   1.99793130e-01   1.00000000e+00   0.00000000e+00\n",
      "    0.00000000e+00   0.00000000e+00   0.00000000e+00   0.00000000e+00\n",
      "    0.00000000e+00]\n",
      " [  3.95322926e-02   1.32499009e-01   1.00000000e+00   1.00000000e+00\n",
      "    1.00000000e+00   0.00000000e+00   1.00000000e+00   1.00000000e+00\n",
      "    0.00000000e+00]\n",
      " [  2.65582651e-02   9.90039706e-02   1.00000000e+00   1.00000000e+00\n",
      "    1.00000000e+00   1.00000000e+00   1.00000000e+00   1.00000000e+00\n",
      "    1.00000000e+00]\n",
      " [  7.76869133e-02   1.64854944e-01   0.00000000e+00   0.00000000e+00\n",
      "    0.00000000e+00   1.00000000e+00   0.00000000e+00   0.00000000e+00\n",
      "    0.00000000e+00]\n",
      " [  9.43396240e-03   7.31473744e-01   0.00000000e+00   0.00000000e+00\n",
      "    0.00000000e+00   0.00000000e+00   1.00000000e+00   0.00000000e+00\n",
      "    0.00000000e+00]\n",
      " [  2.16867477e-02   1.76367581e-01   0.00000000e+00   0.00000000e+00\n",
      "    0.00000000e+00   0.00000000e+00   0.00000000e+00   0.00000000e+00\n",
      "    0.00000000e+00]\n",
      " [  2.46913582e-02   7.57670105e-02   0.00000000e+00   0.00000000e+00\n",
      "    0.00000000e+00   0.00000000e+00   0.00000000e+00   0.00000000e+00\n",
      "    0.00000000e+00]\n",
      " [  1.51975686e-02   6.30925819e-02   1.00000000e+00   0.00000000e+00\n",
      "    0.00000000e+00   0.00000000e+00   0.00000000e+00   0.00000000e+00\n",
      "    0.00000000e+00]\n",
      " [  3.45911942e-02   2.11854547e-01   0.00000000e+00   0.00000000e+00\n",
      "    0.00000000e+00   0.00000000e+00   0.00000000e+00   0.00000000e+00\n",
      "    0.00000000e+00]\n",
      " [  6.32911408e-03   2.24488959e-01   0.00000000e+00   0.00000000e+00\n",
      "    0.00000000e+00   0.00000000e+00   0.00000000e+00   0.00000000e+00\n",
      "    0.00000000e+00]\n",
      " [  5.08905854e-03   9.32479650e-02   0.00000000e+00   0.00000000e+00\n",
      "    0.00000000e+00   0.00000000e+00   0.00000000e+00   0.00000000e+00\n",
      "    0.00000000e+00]\n",
      " [  3.83141753e-03   2.04508007e-01   0.00000000e+00   0.00000000e+00\n",
      "    0.00000000e+00   0.00000000e+00   0.00000000e+00   0.00000000e+00\n",
      "    0.00000000e+00]\n",
      " [  4.91803288e-02   4.27029245e-02   1.00000000e+00   1.00000000e+00\n",
      "    1.00000000e+00   1.00000000e+00   1.00000000e+00   1.00000000e+00\n",
      "    0.00000000e+00]\n",
      " [  2.10787356e-02   4.06305850e-01   0.00000000e+00   1.00000000e+00\n",
      "    1.00000000e+00   1.00000000e+00   1.00000000e+00   0.00000000e+00\n",
      "    0.00000000e+00]\n",
      " [  2.71411333e-02   1.48334894e-02   1.00000000e+00   1.00000000e+00\n",
      "    1.00000000e+00   1.00000000e+00   1.00000000e+00   1.00000000e+00\n",
      "    1.00000000e+00]\n",
      " [  2.75659822e-02   1.11611225e-01   1.00000000e+00   1.00000000e+00\n",
      "    1.00000000e+00   1.00000000e+00   1.00000000e+00   1.00000000e+00\n",
      "    1.00000000e+00]\n",
      " [  5.86166454e-04   3.83934319e-01   1.00000000e+00   1.00000000e+00\n",
      "    1.00000000e+00   1.00000000e+00   1.00000000e+00   1.00000000e+00\n",
      "    1.00000000e+00]\n",
      " [  3.01307570e-02   2.88520157e-01   1.00000000e+00   1.00000000e+00\n",
      "    1.00000000e+00   1.00000000e+00   1.00000000e+00   1.00000000e+00\n",
      "    1.00000000e+00]\n",
      " [  5.70913479e-02   2.06752587e-02   0.00000000e+00   0.00000000e+00\n",
      "    0.00000000e+00   1.00000000e+00   1.00000000e+00   1.00000000e+00\n",
      "    1.00000000e+00]\n",
      " [  1.88679248e-02   1.03103369e-02   1.00000000e+00   0.00000000e+00\n",
      "    0.00000000e+00   0.00000000e+00   1.00000000e+00   1.00000000e+00\n",
      "    1.00000000e+00]\n",
      " [  6.06629141e-02   5.28138876e-01   0.00000000e+00   0.00000000e+00\n",
      "    0.00000000e+00   0.00000000e+00   0.00000000e+00   0.00000000e+00\n",
      "    0.00000000e+00]\n",
      " [  3.13676288e-03   4.26150769e-01   0.00000000e+00   0.00000000e+00\n",
      "    0.00000000e+00   0.00000000e+00   0.00000000e+00   0.00000000e+00\n",
      "    0.00000000e+00]\n",
      " [  1.07799619e-02   1.40804425e-01   0.00000000e+00   0.00000000e+00\n",
      "    0.00000000e+00   0.00000000e+00   0.00000000e+00   0.00000000e+00\n",
      "    0.00000000e+00]\n",
      " [  9.60307289e-03   8.93369317e-02   0.00000000e+00   0.00000000e+00\n",
      "    0.00000000e+00   0.00000000e+00   0.00000000e+00   0.00000000e+00\n",
      "    0.00000000e+00]\n",
      " [  2.00752821e-02   1.88451067e-01   1.00000000e+00   1.00000000e+00\n",
      "    0.00000000e+00   0.00000000e+00   0.00000000e+00   0.00000000e+00\n",
      "    0.00000000e+00]\n",
      " [  4.79947403e-02   1.61946807e-02   0.00000000e+00   0.00000000e+00\n",
      "    0.00000000e+00   0.00000000e+00   0.00000000e+00   0.00000000e+00\n",
      "    0.00000000e+00]\n",
      " [  1.33244507e-02   1.92572117e-01   0.00000000e+00   0.00000000e+00\n",
      "    0.00000000e+00   0.00000000e+00   0.00000000e+00   0.00000000e+00\n",
      "    0.00000000e+00]\n",
      " [  4.64190962e-03   1.25924230e-01   1.00000000e+00   0.00000000e+00\n",
      "    0.00000000e+00   0.00000000e+00   0.00000000e+00   0.00000000e+00\n",
      "    0.00000000e+00]\n",
      " [  5.27704507e-03   8.76770318e-02   1.00000000e+00   1.00000000e+00\n",
      "    0.00000000e+00   0.00000000e+00   0.00000000e+00   0.00000000e+00\n",
      "    0.00000000e+00]\n",
      " [  3.76454480e-02   6.78668469e-02   0.00000000e+00   0.00000000e+00\n",
      "    0.00000000e+00   0.00000000e+00   0.00000000e+00   0.00000000e+00\n",
      "    0.00000000e+00]\n",
      " [  2.73037539e-03   1.42258555e-01   1.00000000e+00   0.00000000e+00\n",
      "    0.00000000e+00   0.00000000e+00   0.00000000e+00   0.00000000e+00\n",
      "    0.00000000e+00]\n",
      " [  2.44755242e-02   3.02792400e-01   0.00000000e+00   0.00000000e+00\n",
      "    0.00000000e+00   0.00000000e+00   0.00000000e+00   0.00000000e+00\n",
      "    0.00000000e+00]\n",
      " [  1.58293191e-02   4.53293025e-01   1.00000000e+00   0.00000000e+00\n",
      "    0.00000000e+00   0.00000000e+00   0.00000000e+00   0.00000000e+00\n",
      "    0.00000000e+00]\n",
      " [  2.74431054e-02   4.00252116e-04   1.00000000e+00   1.00000000e+00\n",
      "    1.00000000e+00   1.00000000e+00   0.00000000e+00   0.00000000e+00\n",
      "    0.00000000e+00]\n",
      " [  2.86085829e-02   5.41961752e-02   1.00000000e+00   1.00000000e+00\n",
      "    1.00000000e+00   1.00000000e+00   1.00000000e+00   1.00000000e+00\n",
      "    1.00000000e+00]\n",
      " [  6.06896542e-02   8.36005807e-02   0.00000000e+00   0.00000000e+00\n",
      "    0.00000000e+00   1.00000000e+00   0.00000000e+00   0.00000000e+00\n",
      "    0.00000000e+00]\n",
      " [  2.42261104e-02   3.06910217e-01   1.00000000e+00   0.00000000e+00\n",
      "    0.00000000e+00   1.00000000e+00   1.00000000e+00   1.00000000e+00\n",
      "    1.00000000e+00]\n",
      " [  2.81229559e-02   4.32400048e-01   1.00000000e+00   1.00000000e+00\n",
      "    0.00000000e+00   1.00000000e+00   1.00000000e+00   1.00000000e+00\n",
      "    1.00000000e+00]\n",
      " [  4.43749987e-02   6.90621659e-02   1.00000000e+00   1.00000000e+00\n",
      "    1.00000000e+00   1.00000000e+00   1.00000000e+00   1.00000000e+00\n",
      "    1.00000000e+00]\n",
      " [  9.90098994e-03   3.04922368e-02   1.00000000e+00   1.00000000e+00\n",
      "    1.00000000e+00   1.00000000e+00   1.00000000e+00   1.00000000e+00\n",
      "    1.00000000e+00]\n",
      " [  3.06122452e-02   3.84223014e-01   0.00000000e+00   0.00000000e+00\n",
      "    1.00000000e+00   1.00000000e+00   1.00000000e+00   1.00000000e+00\n",
      "    1.00000000e+00]\n",
      " [  3.02233901e-02   1.58627391e-01   0.00000000e+00   0.00000000e+00\n",
      "    0.00000000e+00   0.00000000e+00   1.00000000e+00   1.00000000e+00\n",
      "    0.00000000e+00]\n",
      " [  2.62123207e-03   3.81168246e-01   1.00000000e+00   0.00000000e+00\n",
      "    0.00000000e+00   0.00000000e+00   0.00000000e+00   1.00000000e+00\n",
      "    1.00000000e+00]\n",
      " [  0.00000000e+00   3.11675936e-01   0.00000000e+00   1.00000000e+00\n",
      "    0.00000000e+00   0.00000000e+00   0.00000000e+00   0.00000000e+00\n",
      "    1.00000000e+00]\n",
      " [  4.02515717e-02   4.75692935e-02   1.00000000e+00   1.00000000e+00\n",
      "    1.00000000e+00   1.00000000e+00   0.00000000e+00   0.00000000e+00\n",
      "    1.00000000e+00]\n",
      " [  2.05391534e-02   6.98901057e-01   0.00000000e+00   1.00000000e+00\n",
      "    1.00000000e+00   1.00000000e+00   0.00000000e+00   0.00000000e+00\n",
      "    0.00000000e+00]\n",
      " [  5.23114353e-02   4.14896488e-01   1.00000000e+00   1.00000000e+00\n",
      "    1.00000000e+00   1.00000000e+00   1.00000000e+00   1.00000000e+00\n",
      "    1.00000000e+00]\n",
      " [  4.84261522e-03   1.31172061e-01   1.00000000e+00   1.00000000e+00\n",
      "    1.00000000e+00   1.00000000e+00   1.00000000e+00   1.00000000e+00\n",
      "    1.00000000e+00]\n",
      " [  7.70949721e-02   3.65987957e-01   1.00000000e+00   1.00000000e+00\n",
      "    1.00000000e+00   1.00000000e+00   1.00000000e+00   1.00000000e+00\n",
      "    1.00000000e+00]\n",
      " [  1.67879125e-03   3.21107209e-01   0.00000000e+00   1.00000000e+00\n",
      "    1.00000000e+00   1.00000000e+00   1.00000000e+00   1.00000000e+00\n",
      "    1.00000000e+00]\n",
      " [  7.32732713e-02   6.84530754e-03   0.00000000e+00   0.00000000e+00\n",
      "    1.00000000e+00   1.00000000e+00   1.00000000e+00   1.00000000e+00\n",
      "    1.00000000e+00]\n",
      " [  2.39664479e-03   3.73788118e-01   1.00000000e+00   0.00000000e+00\n",
      "    0.00000000e+00   1.00000000e+00   1.00000000e+00   1.00000000e+00\n",
      "    1.00000000e+00]\n",
      " [  2.68221572e-02   2.60248780e-01   1.00000000e+00   1.00000000e+00\n",
      "    0.00000000e+00   0.00000000e+00   1.00000000e+00   1.00000000e+00\n",
      "    1.00000000e+00]\n",
      " [  3.68802920e-02   2.88882246e-03   0.00000000e+00   0.00000000e+00\n",
      "    0.00000000e+00   0.00000000e+00   0.00000000e+00   1.00000000e+00\n",
      "    1.00000000e+00]\n",
      " [  2.70588230e-02   1.60232978e-03   1.00000000e+00   0.00000000e+00\n",
      "    1.00000000e+00   1.00000000e+00   0.00000000e+00   0.00000000e+00\n",
      "    1.00000000e+00]\n",
      " [  1.69188440e-01   7.52876222e-01   0.00000000e+00   0.00000000e+00\n",
      "    0.00000000e+00   0.00000000e+00   0.00000000e+00   0.00000000e+00\n",
      "    0.00000000e+00]\n",
      " [  2.61115041e-02   4.35179234e-01   0.00000000e+00   0.00000000e+00\n",
      "    0.00000000e+00   0.00000000e+00   0.00000000e+00   0.00000000e+00\n",
      "    0.00000000e+00]\n",
      " [  2.53256150e-02   1.18662858e+00   0.00000000e+00   0.00000000e+00\n",
      "    0.00000000e+00   0.00000000e+00   0.00000000e+00   0.00000000e+00\n",
      "    0.00000000e+00]\n",
      " [  4.36046533e-03   2.47905046e-01   0.00000000e+00   0.00000000e+00\n",
      "    0.00000000e+00   0.00000000e+00   0.00000000e+00   0.00000000e+00\n",
      "    0.00000000e+00]\n",
      " [  3.43859643e-02   1.95999205e-01   1.00000000e+00   1.00000000e+00\n",
      "    1.00000000e+00   0.00000000e+00   0.00000000e+00   0.00000000e+00\n",
      "    0.00000000e+00]\n",
      " [  3.48583870e-02   3.61342281e-01   0.00000000e+00   1.00000000e+00\n",
      "    0.00000000e+00   0.00000000e+00   0.00000000e+00   0.00000000e+00\n",
      "    0.00000000e+00]\n",
      " [  2.60804761e-02   1.56699806e-01   0.00000000e+00   0.00000000e+00\n",
      "    0.00000000e+00   0.00000000e+00   0.00000000e+00   0.00000000e+00\n",
      "    0.00000000e+00]\n",
      " [  5.66929132e-02   5.29673100e-01   0.00000000e+00   0.00000000e+00\n",
      "    0.00000000e+00   0.00000000e+00   0.00000000e+00   0.00000000e+00\n",
      "    0.00000000e+00]\n",
      " [  1.57728710e-03   6.22243047e-01   0.00000000e+00   0.00000000e+00\n",
      "    0.00000000e+00   0.00000000e+00   0.00000000e+00   0.00000000e+00\n",
      "    0.00000000e+00]\n",
      " [  6.91399649e-02   3.76289040e-01   0.00000000e+00   0.00000000e+00\n",
      "    0.00000000e+00   0.00000000e+00   0.00000000e+00   0.00000000e+00\n",
      "    0.00000000e+00]\n",
      " [  2.30642501e-02   2.62545079e-01   1.00000000e+00   0.00000000e+00\n",
      "    0.00000000e+00   0.00000000e+00   0.00000000e+00   0.00000000e+00\n",
      "    0.00000000e+00]\n",
      " [  5.81846386e-02   3.04784805e-01   1.00000000e+00   1.00000000e+00\n",
      "    1.00000000e+00   1.00000000e+00   0.00000000e+00   0.00000000e+00\n",
      "    0.00000000e+00]\n",
      " [  2.38284357e-02   7.08906591e-01   0.00000000e+00   1.00000000e+00\n",
      "    1.00000000e+00   0.00000000e+00   0.00000000e+00   0.00000000e+00\n",
      "    0.00000000e+00]\n",
      " [  3.16706253e-03   2.53496077e-02   1.00000000e+00   0.00000000e+00\n",
      "    1.00000000e+00   1.00000000e+00   0.00000000e+00   0.00000000e+00\n",
      "    0.00000000e+00]\n",
      " [  1.84803009e-01   8.32972765e-01   0.00000000e+00   0.00000000e+00\n",
      "    0.00000000e+00   0.00000000e+00   0.00000000e+00   0.00000000e+00\n",
      "    0.00000000e+00]\n",
      " [  3.96396406e-02   9.66216862e-01   1.00000000e+00   0.00000000e+00\n",
      "    0.00000000e+00   0.00000000e+00   0.00000000e+00   0.00000000e+00\n",
      "    0.00000000e+00]\n",
      " [  2.02205889e-02   4.89547223e-01   0.00000000e+00   1.00000000e+00\n",
      "    0.00000000e+00   0.00000000e+00   0.00000000e+00   0.00000000e+00\n",
      "    0.00000000e+00]\n",
      " [  2.59623993e-02   3.78801018e-01   1.00000000e+00   1.00000000e+00\n",
      "    1.00000000e+00   0.00000000e+00   0.00000000e+00   0.00000000e+00\n",
      "    0.00000000e+00]\n",
      " [  8.96057347e-04   5.28670941e-03   0.00000000e+00   1.00000000e+00\n",
      "    1.00000000e+00   1.00000000e+00   0.00000000e+00   0.00000000e+00\n",
      "    0.00000000e+00]\n",
      " [  5.02127670e-02   2.75745511e-01   1.00000000e+00   1.00000000e+00\n",
      "    1.00000000e+00   1.00000000e+00   1.00000000e+00   0.00000000e+00\n",
      "    0.00000000e+00]\n",
      " [  5.09838983e-02   1.03307337e-01   0.00000000e+00   1.00000000e+00\n",
      "    1.00000000e+00   1.00000000e+00   1.00000000e+00   1.00000000e+00\n",
      "    0.00000000e+00]\n",
      " [  9.74313542e-03   7.65270591e-01   1.00000000e+00   0.00000000e+00\n",
      "    1.00000000e+00   1.00000000e+00   1.00000000e+00   1.00000000e+00\n",
      "    1.00000000e+00]\n",
      " [  1.77462294e-03   2.77894229e-01   0.00000000e+00   1.00000000e+00\n",
      "    0.00000000e+00   1.00000000e+00   1.00000000e+00   1.00000000e+00\n",
      "    1.00000000e+00]\n",
      " [  9.66608059e-03   1.89961046e-01   1.00000000e+00   1.00000000e+00\n",
      "    1.00000000e+00   0.00000000e+00   1.00000000e+00   1.00000000e+00\n",
      "    1.00000000e+00]\n",
      " [  1.88003574e-02   5.93020814e-03   0.00000000e+00   0.00000000e+00\n",
      "    0.00000000e+00   0.00000000e+00   0.00000000e+00   1.00000000e+00\n",
      "    0.00000000e+00]\n",
      " [  2.94930879e-02   4.04597700e-01   0.00000000e+00   0.00000000e+00\n",
      "    0.00000000e+00   0.00000000e+00   0.00000000e+00   0.00000000e+00\n",
      "    0.00000000e+00]\n",
      " [  2.45514642e-02   1.02769412e-01   0.00000000e+00   0.00000000e+00\n",
      "    0.00000000e+00   0.00000000e+00   0.00000000e+00   0.00000000e+00\n",
      "    0.00000000e+00]\n",
      " [  2.48618778e-02   1.60114259e-01   1.00000000e+00   1.00000000e+00\n",
      "    0.00000000e+00   0.00000000e+00   0.00000000e+00   0.00000000e+00\n",
      "    0.00000000e+00]\n",
      " [  1.36239780e-02   5.41223645e-01   1.00000000e+00   1.00000000e+00\n",
      "    1.00000000e+00   0.00000000e+00   0.00000000e+00   0.00000000e+00\n",
      "    0.00000000e+00]\n",
      " [  8.10810830e-03   1.17594309e-01   1.00000000e+00   1.00000000e+00\n",
      "    1.00000000e+00   1.00000000e+00   0.00000000e+00   0.00000000e+00\n",
      "    0.00000000e+00]\n",
      " [  1.79856119e-03   2.99748391e-01   1.00000000e+00   1.00000000e+00\n",
      "    1.00000000e+00   1.00000000e+00   1.00000000e+00   0.00000000e+00\n",
      "    0.00000000e+00]\n",
      " [  2.67774705e-02   9.07441527e-02   0.00000000e+00   0.00000000e+00\n",
      "    0.00000000e+00   0.00000000e+00   1.00000000e+00   0.00000000e+00\n",
      "    0.00000000e+00]\n",
      " [  2.26628892e-02   7.42723746e-03   0.00000000e+00   0.00000000e+00\n",
      "    0.00000000e+00   0.00000000e+00   0.00000000e+00   0.00000000e+00\n",
      "    0.00000000e+00]\n",
      " [  1.72910672e-02   1.94322452e-01   0.00000000e+00   0.00000000e+00\n",
      "    0.00000000e+00   0.00000000e+00   0.00000000e+00   0.00000000e+00\n",
      "    0.00000000e+00]\n",
      " [  1.36319380e-02   4.82738912e-02   0.00000000e+00   0.00000000e+00\n",
      "    0.00000000e+00   0.00000000e+00   0.00000000e+00   0.00000000e+00\n",
      "    0.00000000e+00]\n",
      " [  1.58259142e-02   2.06886441e-01   0.00000000e+00   0.00000000e+00\n",
      "    0.00000000e+00   0.00000000e+00   0.00000000e+00   0.00000000e+00\n",
      "    0.00000000e+00]\n",
      " [  3.62249762e-02   3.21928263e-01   1.00000000e+00   1.00000000e+00\n",
      "    1.00000000e+00   0.00000000e+00   0.00000000e+00   0.00000000e+00\n",
      "    0.00000000e+00]\n",
      " [  6.60569072e-02   9.39746946e-02   0.00000000e+00   0.00000000e+00\n",
      "    0.00000000e+00   0.00000000e+00   0.00000000e+00   0.00000000e+00\n",
      "    0.00000000e+00]\n",
      " [  1.01729401e-03   6.90172315e-01   0.00000000e+00   0.00000000e+00\n",
      "    0.00000000e+00   0.00000000e+00   0.00000000e+00   0.00000000e+00\n",
      "    0.00000000e+00]]\n",
      "[[ 0.  1.]\n",
      " [ 1.  0.]\n",
      " [ 0.  1.]\n",
      " [ 1.  0.]\n",
      " [ 1.  0.]\n",
      " [ 0.  1.]\n",
      " [ 0.  1.]\n",
      " [ 1.  0.]\n",
      " [ 1.  0.]\n",
      " [ 1.  0.]\n",
      " [ 0.  1.]\n",
      " [ 0.  1.]\n",
      " [ 0.  1.]\n",
      " [ 0.  1.]\n",
      " [ 1.  0.]\n",
      " [ 0.  1.]\n",
      " [ 0.  1.]\n",
      " [ 0.  1.]\n",
      " [ 0.  1.]\n",
      " [ 1.  0.]\n",
      " [ 0.  1.]\n",
      " [ 1.  0.]\n",
      " [ 1.  0.]\n",
      " [ 1.  0.]\n",
      " [ 1.  0.]\n",
      " [ 0.  1.]\n",
      " [ 1.  0.]\n",
      " [ 0.  1.]\n",
      " [ 0.  1.]\n",
      " [ 0.  1.]\n",
      " [ 0.  1.]\n",
      " [ 1.  0.]\n",
      " [ 0.  1.]\n",
      " [ 0.  1.]\n",
      " [ 1.  0.]\n",
      " [ 1.  0.]\n",
      " [ 0.  1.]\n",
      " [ 1.  0.]\n",
      " [ 0.  1.]\n",
      " [ 1.  0.]\n",
      " [ 1.  0.]\n",
      " [ 1.  0.]\n",
      " [ 0.  1.]\n",
      " [ 1.  0.]\n",
      " [ 1.  0.]\n",
      " [ 1.  0.]\n",
      " [ 1.  0.]\n",
      " [ 0.  1.]\n",
      " [ 0.  1.]\n",
      " [ 1.  0.]\n",
      " [ 0.  1.]\n",
      " [ 1.  0.]\n",
      " [ 0.  1.]\n",
      " [ 1.  0.]\n",
      " [ 1.  0.]\n",
      " [ 1.  0.]\n",
      " [ 0.  1.]\n",
      " [ 0.  1.]\n",
      " [ 1.  0.]\n",
      " [ 1.  0.]\n",
      " [ 0.  1.]\n",
      " [ 1.  0.]\n",
      " [ 0.  1.]\n",
      " [ 0.  1.]\n",
      " [ 0.  1.]\n",
      " [ 0.  1.]\n",
      " [ 1.  0.]\n",
      " [ 0.  1.]\n",
      " [ 0.  1.]\n",
      " [ 0.  1.]\n",
      " [ 0.  1.]\n",
      " [ 0.  1.]\n",
      " [ 1.  0.]\n",
      " [ 1.  0.]\n",
      " [ 0.  1.]\n",
      " [ 1.  0.]\n",
      " [ 0.  1.]\n",
      " [ 1.  0.]\n",
      " [ 0.  1.]\n",
      " [ 1.  0.]\n",
      " [ 0.  1.]\n",
      " [ 1.  0.]\n",
      " [ 0.  1.]\n",
      " [ 1.  0.]\n",
      " [ 0.  1.]\n",
      " [ 1.  0.]\n",
      " [ 0.  1.]\n",
      " [ 0.  1.]\n",
      " [ 0.  1.]\n",
      " [ 1.  0.]\n",
      " [ 1.  0.]\n",
      " [ 1.  0.]\n",
      " [ 1.  0.]\n",
      " [ 0.  1.]\n",
      " [ 0.  1.]\n",
      " [ 0.  1.]\n",
      " [ 0.  1.]\n",
      " [ 0.  1.]\n",
      " [ 1.  0.]\n",
      " [ 0.  1.]\n",
      " [ 0.  1.]\n",
      " [ 1.  0.]]\n"
     ]
    }
   ],
   "source": [
    "tf = np.split(training_features, num_minibatches); print(len(tf)); print(tf[0].shape) \n",
    "tl = np.split(training_labels, num_minibatches); print(len(tl)); print(tl[0].shape)  \n",
    "# print the first sequence \n",
    "print(tf[0]) # 37 mini batches, each batch with 102 rows\n",
    "print(tl[0])"
   ]
  },
  {
   "cell_type": "markdown",
   "metadata": {},
   "source": [
    "### Train the NN"
   ]
  },
  {
   "cell_type": "code",
   "execution_count": 154,
   "metadata": {
    "collapsed": false,
    "scrolled": true
   },
   "outputs": [
    {
     "name": "stdout",
     "output_type": "stream",
     "text": [
      "Minibatch:0, Loss: 0.6968, Error: 0.51%\n",
      "Minibatch:1, Loss: 1.3236, Error: 0.44%\n",
      "Minibatch:2, Loss: 30.4543, Error: 0.51%\n",
      "Minibatch:3, Loss: 11.4619, Error: 0.47%\n",
      "Minibatch:4, Loss: 407.2903, Error: 0.43%\n",
      "Minibatch:5, Loss: 1293.5002, Error: 0.46%\n",
      "Minibatch:6, Loss: 1469.4928, Error: 0.50%\n",
      "Minibatch:7, Loss: 2.1145, Error: 0.44%\n",
      "Minibatch:8, Loss: 3.0104, Error: 0.48%\n",
      "Minibatch:9, Loss: 3.2049, Error: 0.54%\n",
      "Minibatch:10, Loss: 4.3280, Error: 0.56%\n",
      "Minibatch:11, Loss: 3.4399, Error: 0.53%\n",
      "Minibatch:12, Loss: 4.0307, Error: 0.58%\n",
      "Minibatch:13, Loss: 3.9561, Error: 0.51%\n",
      "Minibatch:14, Loss: 2.9279, Error: 0.56%\n",
      "Minibatch:15, Loss: 3.8326, Error: 0.43%\n",
      "Minibatch:16, Loss: 0.9839, Error: 0.41%\n",
      "Minibatch:17, Loss: 2.7662, Error: 0.49%\n",
      "Minibatch:18, Loss: 3.3879, Error: 0.50%\n",
      "Minibatch:19, Loss: 2.8014, Error: 0.47%\n",
      "Minibatch:20, Loss: 3.3477, Error: 0.56%\n",
      "Minibatch:21, Loss: 3.4571, Error: 0.42%\n",
      "Minibatch:22, Loss: 1.3722, Error: 0.51%\n",
      "Minibatch:23, Loss: 4.9736, Error: 0.58%\n",
      "Minibatch:24, Loss: 2.5936, Error: 0.42%\n",
      "Minibatch:25, Loss: 2.3739, Error: 0.52%\n",
      "Minibatch:26, Loss: 4.1348, Error: 0.49%\n",
      "Minibatch:27, Loss: 1.9277, Error: 0.47%\n",
      "Minibatch:28, Loss: 3.6072, Error: 0.48%\n",
      "Minibatch:29, Loss: 2.3730, Error: 0.50%\n",
      "Minibatch:30, Loss: 4.5111, Error: 0.58%\n",
      "Minibatch:31, Loss: 2.8592, Error: 0.41%\n",
      "Minibatch:32, Loss: 1.5532, Error: 0.43%\n",
      "Minibatch:33, Loss: 3.5709, Error: 0.53%\n",
      "Minibatch:34, Loss: 3.1669, Error: 0.47%\n",
      "Minibatch:35, Loss: 2.5751, Error: 0.49%\n",
      "Minibatch:36, Loss: 3.5626, Error: 0.50%\n"
     ]
    }
   ],
   "source": [
    "# Only 1 pass through the data linearly in time\n",
    "num_passes = 1\n",
    "\n",
    "#print(num_minibatches*num_passes) \n",
    "\n",
    "for i in range(num_minibatches*num_passes): # num_minibatches*num_passes = 37*1\n",
    "    features = np.ascontiguousarray(tf[i%num_minibatches]) # http://stackoverflow.com/questions/26998223/what-is-the-difference-between-contiguous-and-non-contiguous-arrays\n",
    "    labels = np.ascontiguousarray(tl[i%num_minibatches])\n",
    "    #print(i%num_minibatches)\n",
    "    \n",
    "    #Specify the mapping of input variables in the model to actual minibatch data to be trained with\n",
    "    trainer.train_minibatch({input:features, label:labels})\n",
    "    batchsize, loss, error = print_training_progress(trainer, i, training_progress_output_freq)\n",
    "    \n",
    "    if not (loss == 'NA' or error == 'NA'):\n",
    "            plotdata['batchsize'].append(batchsize)\n",
    "            plotdata['loss'].append(loss)\n",
    "            plotdata['error'].append(error)"
   ]
  },
  {
   "cell_type": "markdown",
   "metadata": {},
   "source": [
    "### Plot training progress"
   ]
  },
  {
   "cell_type": "code",
   "execution_count": 155,
   "metadata": {
    "collapsed": false
   },
   "outputs": [
    {
     "data": {
      "image/png": "[encoded data removed]",
      "text/plain": [
       "<matplotlib.figure.Figure at 0x770a358>"
      ]
     },
     "metadata": {},
     "output_type": "display_data"
    }
   ],
   "source": [
    "import matplotlib.pyplot as plt\n",
    "\n",
    "plt.figure(1)\n",
    "plt.subplot(211)\n",
    "plt.plot(plotdata['batchsize'], plotdata['loss'], 'b--')\n",
    "plt.xlabel('Minibatch number')\n",
    "plt.ylabel('Loss')\n",
    "plt.title('Minibatch run vs. Training loss')\n",
    "plt.show()"
   ]
  },
  {
   "cell_type": "markdown",
   "metadata": {},
   "source": [
    "### Some nitty gritty"
   ]
  },
  {
   "cell_type": "code",
   "execution_count": 97,
   "metadata": {
    "collapsed": false
   },
   "outputs": [
    {
     "name": "stdout",
     "output_type": "stream",
     "text": [
      "Date\n",
      "2000-01-03       NaN\n",
      "2000-01-04   -3.9375\n",
      "2000-01-05    1.1875\n",
      "2000-01-06   -3.8125\n",
      "2000-01-07    1.4375\n",
      "2000-01-10    0.8125\n",
      "Name: Close, dtype: float64\n",
      "Date\n",
      "2000-01-03       NaN\n",
      "2000-01-04    3.9375\n",
      "2000-01-05   -1.1875\n",
      "2000-01-06    3.8125\n",
      "2000-01-07   -1.4375\n",
      "2000-01-10   -0.8125\n",
      "Name: Close, dtype: float64\n",
      "Date\n",
      "2000-01-03    3.9375\n",
      "2000-01-04   -1.1875\n",
      "2000-01-05    3.8125\n",
      "2000-01-06   -1.4375\n",
      "2000-01-07   -0.8125\n",
      "2000-01-10       NaN\n",
      "Name: Close, dtype: float64\n"
     ]
    }
   ],
   "source": [
    "# 2000-01-03 - 2000-01-04 // tomorrow - today\n",
    "print(data['2000-01-03': '2000-01-10']['Close'] - data['2000-01-03': '2000-01-10']['Close'].shift(1))\n",
    "# 2000-01-03 - 2000-01-04 // today - tomorrow\n",
    "print(data['2000-01-03': '2000-01-10']['Close'].shift(1) - data['2000-01-03': '2000-01-10']['Close']) # put in tomorrow\n",
    "print(data['2000-01-03': '2000-01-10']['Close'] - data['2000-01-03': '2000-01-10']['Close'].shift(-1)) # put in today"
   ]
  },
  {
   "cell_type": "code",
   "execution_count": 98,
   "metadata": {
    "collapsed": false
   },
   "outputs": [
    {
     "data": {
      "text/plain": [
       "Date\n",
       "2000-01-03    116.5625\n",
       "2000-01-04    112.6250\n",
       "2000-01-05    113.8125\n",
       "2000-01-06    110.0000\n",
       "2000-01-07    111.4375\n",
       "2000-01-10    112.2500\n",
       "Name: Close, dtype: float64"
      ]
     },
     "execution_count": 98,
     "metadata": {},
     "output_type": "execute_result"
    }
   ],
   "source": [
    "data['2000-01-03': '2000-01-10']['Close']"
   ]
  },
  {
   "cell_type": "code",
   "execution_count": 99,
   "metadata": {
    "collapsed": false
   },
   "outputs": [
    {
     "data": {
      "text/plain": [
       "Date\n",
       "2000-01-03         NaN\n",
       "2000-01-04    116.5625\n",
       "2000-01-05    112.6250\n",
       "2000-01-06    113.8125\n",
       "2000-01-07    110.0000\n",
       "2000-01-10    111.4375\n",
       "Name: Close, dtype: float64"
      ]
     },
     "execution_count": 99,
     "metadata": {},
     "output_type": "execute_result"
    }
   ],
   "source": [
    "data['2000-01-03': '2000-01-10']['Close'].shift(1)"
   ]
  },
  {
   "cell_type": "code",
   "execution_count": 100,
   "metadata": {
    "collapsed": false
   },
   "outputs": [
    {
     "data": {
      "text/plain": [
       "Date\n",
       "2000-01-03    112.6250\n",
       "2000-01-04    113.8125\n",
       "2000-01-05    110.0000\n",
       "2000-01-06    111.4375\n",
       "2000-01-07    112.2500\n",
       "2000-01-10         NaN\n",
       "Name: Close, dtype: float64"
      ]
     },
     "execution_count": 100,
     "metadata": {},
     "output_type": "execute_result"
    }
   ],
   "source": [
    "data['2000-01-03': '2000-01-10']['Close'].shift(-1)"
   ]
  },
  {
   "cell_type": "code",
   "execution_count": 133,
   "metadata": {
    "collapsed": false
   },
   "outputs": [
    {
     "name": "stdout",
     "output_type": "stream",
     "text": [
      "37.74\n",
      "37\n"
     ]
    }
   ],
   "source": [
    "num_minibatches = len(training_data.index) / minibatch_size; print(num_minibatches)\n",
    "num_minibatches = len(training_data.index) // minibatch_size; print(num_minibatches)"
   ]
  },
  {
   "cell_type": "code",
   "execution_count": null,
   "metadata": {
    "collapsed": true
   },
   "outputs": [],
   "source": []
  }
 ],
 "metadata": {
  "kernelspec": {
   "display_name": "Python 3",
   "language": "python",
   "name": "python3"
  },
  "language_info": {
   "codemirror_mode": {
    "name": "ipython",
    "version": 3
   },
   "file_extension": ".py",
   "mimetype": "text/x-python",
   "name": "python",
   "nbconvert_exporter": "python",
   "pygments_lexer": "ipython3",
   "version": "3.4.4"
  },
  "widgets": {
   "state": {},
   "version": "1.1.2"
  }
 },
 "nbformat": 4,
 "nbformat_minor": 1
}
